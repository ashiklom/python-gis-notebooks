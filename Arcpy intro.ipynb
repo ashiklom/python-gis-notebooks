{
 "cells": [
  {
   "cell_type": "markdown",
   "metadata": {},
   "source": [
    "# Introduction to Arcpy\n",
    "\n",
    "**Goal**: Develop a module for doing some simple spatial analysis with Arcpy.\n",
    "\n",
    "This notebook is hosted on GitHub at https://github.com/ashiklom/python-gis-notebooks"
   ]
  },
  {
   "cell_type": "markdown",
   "metadata": {},
   "source": [
    "## Step 1: Download and extract the data\n",
    "\n",
    "Find Census shapefiles here: https://www.census.gov/geographies/mapping-files/time-series/geo/tiger-line-file.html\n",
    "\n",
    "Use the \"Web Interface\" link and download the following shapefiles into your personal `S:` drive folder:\n",
    "\n",
    "- State boundaries\n",
    "- Congressional districts from year 2016\n",
    "\n",
    "Unzip each file after downloading it (right-click and click \"Extract All\")."
   ]
  },
  {
   "cell_type": "markdown",
   "metadata": {},
   "source": [
    "## Step 2: Interactive Python in ArcMap"
   ]
  },
  {
   "cell_type": "markdown",
   "metadata": {},
   "source": [
    "### Select"
   ]
  },
  {
   "cell_type": "markdown",
   "metadata": {},
   "source": [
    "Select a state interactively using the \"Analysis/Extract/Select\" tools."
   ]
  },
  {
   "cell_type": "markdown",
   "metadata": {},
   "source": [
    "Right click the Select tool and click \"Help\". Note the \"Code sample\" at the bottom."
   ]
  },
  {
   "cell_type": "markdown",
   "metadata": {},
   "source": [
    "Open ArcMap. Then, open the Python window.\n",
    "\n",
    "Configure the environment by running the following commands:\n",
    "\n",
    "(Note the `r` -- this prevents escape characters from messing up your path).\n",
    "\n",
    "(HINT: Rather than typing it, copy-paste the path from Windows Explorer).\n",
    "\n",
    "This tells Arcpy to use that path as the current environment."
   ]
  },
  {
   "cell_type": "markdown",
   "metadata": {},
   "source": [
    "```python\n",
    "import arcpy\n",
    "arcpy.env.workspace = r\"<path to your environment>\"\n",
    "arcpy.env.overwriteOutput = True\n",
    "```"
   ]
  },
  {
   "cell_type": "markdown",
   "metadata": {},
   "source": [
    "Now, try to replicate the selection in Arcpy."
   ]
  },
  {
   "cell_type": "markdown",
   "metadata": {},
   "source": [
    "```python\n",
    "arcpy.Select_analysis(\n",
    "    \"tl_2019_us_state/tl_2019_us_state.shp\",\n",
    "    \"output/Arkansas_selected.shp\",\n",
    "    \"\\\"NAME\\\" = 'Arkansas'\"\n",
    ")\n",
    "```"
   ]
  },
  {
   "cell_type": "markdown",
   "metadata": {},
   "source": [
    "## Step 3: Turning it into a module"
   ]
  },
  {
   "cell_type": "markdown",
   "metadata": {},
   "source": [
    "In your current workspace folder, create a Python script called `spatialhelpers.py` with the following contents:"
   ]
  },
  {
   "cell_type": "markdown",
   "metadata": {},
   "source": [
    "```python\n",
    "import arcpy\n",
    "# arcpy.env.workspace = r\"path/to/workspace\"\n",
    "\n",
    "def state_name(state):\n",
    "    return \"\\NAME\\\" = '%s'\" % state\n",
    "\n",
    "def select_state(state):\n",
    "    input = \"tl_2019_us_state/tl_2019_us_state.shp\"\n",
    "    output = \"output/%s_selected.shp\" % state\n",
    "    query = state_name(state)\n",
    "    arcpy.Select_analysis(input, output, query)\n",
    "    return output\n",
    "```"
   ]
  },
  {
   "cell_type": "markdown",
   "metadata": {},
   "source": [
    "Load it in the Python window with `import spatialhelpers`."
   ]
  },
  {
   "cell_type": "markdown",
   "metadata": {},
   "source": [
    "### Clip"
   ]
  },
  {
   "cell_type": "markdown",
   "metadata": {},
   "source": [
    "Now, get the congressional districts for the selected state using \"Clip\"."
   ]
  },
  {
   "cell_type": "markdown",
   "metadata": {},
   "source": [
    "Again, look at the \"Help\" for the \"Clip\" operation, and based on that, try to reproduce it in Python."
   ]
  },
  {
   "cell_type": "markdown",
   "metadata": {},
   "source": [
    "```python\n",
    "arcpy.Clip_analysis(\n",
    "    \"tl_2016_us_cd115/tl_2016_us_cd115.shp\",\n",
    "    \"output/Arkansas_selected.shp\",\n",
    "    \"output/Arkansas_districts.shp\"\n",
    ")\n",
    "```"
   ]
  },
  {
   "cell_type": "markdown",
   "metadata": {},
   "source": [
    "## Exercise\n",
    "\n",
    "Write a function `state_districts_115(state)` that creates a shapefile of just that state's congressional districts from the 115th Congress (2016). "
   ]
  },
  {
   "cell_type": "markdown",
   "metadata": {},
   "source": [
    "```python\n",
    "def state_districts_115(state):\n",
    "    input = \"tl_2016_us_cd115/tl_2016_us_cd115.shp\"\n",
    "    clipby = select_state(state)\n",
    "    output = \"output/%s_districts_115.shp\" % state\n",
    "    arcpy.Clip_analysis(input, clipby, output)\n",
    "    return ou\n",
    "```"
   ]
  },
  {
   "cell_type": "code",
   "execution_count": null,
   "metadata": {},
   "outputs": [],
   "source": []
  }
 ],
 "metadata": {
  "kernelspec": {
   "display_name": "Python 3",
   "language": "python",
   "name": "python3"
  },
  "language_info": {
   "codemirror_mode": {
    "name": "ipython",
    "version": 3
   },
   "file_extension": ".py",
   "mimetype": "text/x-python",
   "name": "python",
   "nbconvert_exporter": "python",
   "pygments_lexer": "ipython3",
   "version": "3.7.1"
  }
 },
 "nbformat": 4,
 "nbformat_minor": 2
}
