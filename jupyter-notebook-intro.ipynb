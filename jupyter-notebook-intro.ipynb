{
 "cells": [
  {
   "cell_type": "markdown",
   "metadata": {},
   "source": [
    "# Jupyter notebooks\n",
    "\n",
    "Jupyter notebooks provide a convenient way to work with Python (and several other languages) interactively.\n",
    "\n",
    "A key feature is the ability to interleave code and plain text (in a special format called \"Markdown\")."
   ]
  },
  {
   "cell_type": "markdown",
   "metadata": {},
   "source": [
    "To start a Jupyter notebook in a directory, open PowerShell, navigate `cd` to the directory you need (probably on the `S:` drive), and enter the following command:"
   ]
  },
  {
   "cell_type": "raw",
   "metadata": {},
   "source": [
    "jupyter-notebook"
   ]
  },
  {
   "cell_type": "markdown",
   "metadata": {},
   "source": [
    "Jupyter notebooks consist of \"cells\", which can contain either code (which can be evaluated in place) or text.\n",
    "\n",
    "This block and the one above it are examples of \"Markdown\" blocks."
   ]
  },
  {
   "cell_type": "code",
   "execution_count": 3,
   "metadata": {},
   "outputs": [
    {
     "name": "stdout",
     "output_type": "stream",
     "text": [
      "Hello, there, everybody!\n"
     ]
    }
   ],
   "source": [
    "# This is an example of a Python cell\n",
    "# Note that this code is not run until I ask it to be.\n",
    "print \"Hello, there, everybody!\""
   ]
  },
  {
   "cell_type": "markdown",
   "metadata": {},
   "source": [
    "You can tell the above block is a code block from its formatting, and from the `In [X]:` to its left.\n",
    "\n",
    "Unlike scripts, which always run from beginning to end, Jupyter notebooks are specifically designed for interactive use and therefore let you run different code blocks **in any order**.\n",
    "\n",
    "The `X` there is used to keep track of the order of code evaluation."
   ]
  },
  {
   "cell_type": "code",
   "execution_count": 6,
   "metadata": {},
   "outputs": [],
   "source": [
    "x = 3"
   ]
  },
  {
   "cell_type": "code",
   "execution_count": 5,
   "metadata": {},
   "outputs": [],
   "source": [
    "x = 7"
   ]
  },
  {
   "cell_type": "code",
   "execution_count": 10,
   "metadata": {},
   "outputs": [
    {
     "name": "stdout",
     "output_type": "stream",
     "text": [
      "3\n"
     ]
    }
   ],
   "source": [
    "print x"
   ]
  },
  {
   "cell_type": "markdown",
   "metadata": {},
   "source": [
    "Take a few minutes to familiarize yourself with the Jupyter notebook interface.\n",
    "\n",
    "In particular, try the following keyboard shortcuts:\n",
    "\n",
    "* `ESC` to enter **\"Command mode\"**, which is useful for navigating _between_ code blocks, executing code, etc.\n",
    "* In **command mode**, try the following:\n",
    "  - `Up` and `Down` to move between code blocks\n",
    "  - `Ctrl + Enter` to run a code block, or _render_ (format) a Markdown block\n",
    "  - `Enter` to edit the contents of a cell. When you're done editing, press `ESC` to get back to command mode.\n",
    "  - `x` to delete a cell.\n",
    "  - `b` to insert a new cell **b**elow the current one\n",
    "  - `a` to insert a new cell **a**bove the current one\n",
    "  - `o` to toggle showing/hiding the output of a code block\n",
    "* While editing the contents of a code block (in **edit mode**), you can use the `TAB` key for _completion_. Some of the things you can complete are:\n",
    "  - Defined variable and function names (e.g. type `flo` and press `TAB` to complete it to `float`\n",
    "  - File paths (e.g. type `\"S:/` and press `TAB` to show a list of paths. Keep typing to narrow the selection, or pick a choice with the up/down arrows and press `Enter` to complete the path. Press `TAB` again to keep navigating.)\n",
    "  - Object methods (e.g. create a string variable with `s = \"hello\"` and run the code block. Then, and in a new code block, type `s.` and press `TAB` to see a drop-down list of methods)"
   ]
  },
  {
   "cell_type": "code",
   "execution_count": 15,
   "metadata": {},
   "outputs": [],
   "source": [
    "def add(a, b):\n",
    "    result = a + b\n",
    "    return result"
   ]
  },
  {
   "cell_type": "code",
   "execution_count": 16,
   "metadata": {},
   "outputs": [
    {
     "data": {
      "text/plain": [
       "7.0"
      ]
     },
     "execution_count": 16,
     "metadata": {},
     "output_type": "execute_result"
    }
   ],
   "source": [
    "add(3., 4)"
   ]
  }
 ],
 "metadata": {
  "kernelspec": {
   "display_name": "Python 2",
   "language": "python",
   "name": "python2"
  },
  "language_info": {
   "codemirror_mode": {
    "name": "ipython",
    "version": 2
   },
   "file_extension": ".py",
   "mimetype": "text/x-python",
   "name": "python",
   "nbconvert_exporter": "python",
   "pygments_lexer": "ipython2",
   "version": "2.7.16"
  }
 },
 "nbformat": 4,
 "nbformat_minor": 2
}
