{
 "cells": [
  {
   "cell_type": "markdown",
   "metadata": {},
   "source": [
    "# Geopandas\n",
    "\n",
    "Geopandas provides a pandas-like syntax for geospatial operations."
   ]
  },
  {
   "cell_type": "markdown",
   "metadata": {},
   "source": [
    "## Setup"
   ]
  },
  {
   "cell_type": "markdown",
   "metadata": {},
   "source": [
    "To work with both Python 2 and 3, this code requires the `future` module.\n",
    "You can install it by running the following code block.\n",
    "\n",
    "(Note: In Jupyter notebooks, code prefixed with `!` is interpreted as a shell command rather than Python code)."
   ]
  },
  {
   "cell_type": "code",
   "execution_count": null,
   "metadata": {},
   "outputs": [],
   "source": [
    "!pip install --user future"
   ]
  },
  {
   "cell_type": "markdown",
   "metadata": {},
   "source": [
    "Let's start by reading in some data.\n",
    "Because it's familiar, we'll again use the US Census state boundaries and congressional districts.\n",
    "The following code block will grab this data for you."
   ]
  },
  {
   "cell_type": "markdown",
   "metadata": {},
   "source": [
    "**EXERCISE:**\n",
    "Run the following code block.\n",
    "While it's running, annotate it with comments describing what each of the lines does."
   ]
  },
  {
   "cell_type": "code",
   "execution_count": null,
   "metadata": {},
   "outputs": [],
   "source": [
    "import os\n",
    "import zipfile\n",
    "\n",
    "# For Python 2-3 compatibility\n",
    "from future.standard_library import install_aliases\n",
    "install_aliases()\n",
    "\n",
    "import urllib.request\n",
    "\n",
    "data_dir = \"data\"\n",
    "if (not os.path.exists(data_dir)):\n",
    "    os.mkdir(data_dir)\n",
    "    \n",
    "state_url = \"https://www2.census.gov/geo/tiger/TIGER2016/STATE/tl_2016_us_state.zip\"\n",
    "state_dir = os.path.join(data_dir, \"tl_2016_us_state\")\n",
    "state_zip = \"%s.zip\" % state_dir\n",
    "statefile = os.path.join(state_dir, \"tl_2016_us_state.shp\")\n",
    "\n",
    "if (not os.path.exists(statefile)):\n",
    "    if (~os.path.exists(state_zip)):\n",
    "        urllib.request.urlretrieve(state_url, state_zip)\n",
    "    zipfile.ZipFile(state_zip).extractall(state_dir)\n",
    "\n",
    "cd_url = \"https://www2.census.gov/geo/tiger/TIGER2016/CD/tl_2016_us_cd115.zip\"\n",
    "cd_dir = os.path.join(data_dir, \"tl_2016_us_cd115\")\n",
    "cd_zip = \"%s.zip\" % cd_dir\n",
    "cdfile = os.path.join(cd_dir, \"tl_2016_us_cd115.shp\")\n",
    "\n",
    "if (not os.path.exists(cdfile)):\n",
    "    if (~os.path.exists(cd_zip)):\n",
    "        urllib.request.urlretrieve(cd_url, cd_zip)\n",
    "    zipfile.ZipFile(cd_zip).extractall(cd_dir)"
   ]
  },
  {
   "cell_type": "markdown",
   "metadata": {},
   "source": [
    "Now, let's load geopandas and read our first file."
   ]
  },
  {
   "cell_type": "code",
   "execution_count": null,
   "metadata": {},
   "outputs": [],
   "source": [
    "import geopandas as gpd\n",
    "\n",
    "states = gpd.read_file(statefile)"
   ]
  },
  {
   "cell_type": "code",
   "execution_count": null,
   "metadata": {},
   "outputs": [],
   "source": [
    "states"
   ]
  },
  {
   "cell_type": "markdown",
   "metadata": {},
   "source": [
    "Even though it read a shapefile, the underlying `states` object is a data frame, just like the ones you've worked with previously.\n",
    "It supports all of the same Pandas operations you are already used to:"
   ]
  },
  {
   "cell_type": "code",
   "execution_count": null,
   "metadata": {},
   "outputs": [],
   "source": [
    "states.head()"
   ]
  },
  {
   "cell_type": "code",
   "execution_count": null,
   "metadata": {},
   "outputs": [],
   "source": [
    "states.info()"
   ]
  },
  {
   "cell_type": "markdown",
   "metadata": {},
   "source": [
    "(Quick aside: If you're curious _why_ string columns have type object, [here](https://stackoverflow.com/a/21020411/2477097) is a concise answer from Stack Overflow)."
   ]
  },
  {
   "cell_type": "markdown",
   "metadata": {},
   "source": [
    "# Pandas review: Working with columns"
   ]
  },
  {
   "cell_type": "markdown",
   "metadata": {},
   "source": [
    "### Selecting columns"
   ]
  },
  {
   "cell_type": "markdown",
   "metadata": {},
   "source": [
    "Pandas offers many ways to select individual columns.\n"
   ]
  },
  {
   "cell_type": "markdown",
   "metadata": {},
   "source": [
    "(1) Passing the column name as a string (note the quotes!)."
   ]
  },
  {
   "cell_type": "code",
   "execution_count": null,
   "metadata": {},
   "outputs": [],
   "source": [
    "states[\"NAME\"]"
   ]
  },
  {
   "cell_type": "markdown",
   "metadata": {},
   "source": [
    "(2) As an _attribute_ of the data frame object, via the `object.attribute` syntax"
   ]
  },
  {
   "cell_type": "code",
   "execution_count": null,
   "metadata": {},
   "outputs": [],
   "source": [
    "states.NAME"
   ]
  },
  {
   "cell_type": "markdown",
   "metadata": {},
   "source": [
    "---\n",
    "**EXERCISE**:\n",
    "Select the column that stores the state abbreviations.\n",
    "Do this twice --- once with each method."
   ]
  },
  {
   "cell_type": "code",
   "execution_count": null,
   "metadata": {},
   "outputs": [],
   "source": [
    "# Answer here..."
   ]
  },
  {
   "cell_type": "markdown",
   "metadata": {},
   "source": [
    "**QUESTION**:\n",
    "What are some advantages of method 1?\n",
    "What are some advantages of method 2?\n",
    "Which method do you prefer (right now) and why?"
   ]
  },
  {
   "cell_type": "markdown",
   "metadata": {},
   "source": [
    "{Answer here}"
   ]
  },
  {
   "cell_type": "markdown",
   "metadata": {},
   "source": [
    "---\n",
    "By replacing method 1's string with a `list`, you can select multiple columns by name."
   ]
  },
  {
   "cell_type": "code",
   "execution_count": null,
   "metadata": {},
   "outputs": [],
   "source": [
    "states[[\"NAME\", \"ALAND\"]]"
   ]
  },
  {
   "cell_type": "markdown",
   "metadata": {},
   "source": [
    "Recall that strings and lists, like all objects in Python, can be assigned to variables.\n",
    "So, the above could be achieved with code like the following (pay attention to which code is and is not quoted):"
   ]
  },
  {
   "cell_type": "code",
   "execution_count": null,
   "metadata": {},
   "outputs": [],
   "source": [
    "name_col = \"NAME\"\n",
    "states[name_col]"
   ]
  },
  {
   "cell_type": "code",
   "execution_count": null,
   "metadata": {},
   "outputs": [],
   "source": [
    "my_cols = [name_col, \"ALAND\", \"AWATER\"]\n",
    "print my_cols"
   ]
  },
  {
   "cell_type": "code",
   "execution_count": null,
   "metadata": {},
   "outputs": [],
   "source": [
    "states[my_cols]"
   ]
  },
  {
   "cell_type": "markdown",
   "metadata": {},
   "source": [
    "---\n",
    "**EXERCISE**:\n",
    "Use this syntax to create a table of state names and abbreviations."
   ]
  },
  {
   "cell_type": "code",
   "execution_count": null,
   "metadata": {},
   "outputs": [],
   "source": [
    "# Answer here"
   ]
  },
  {
   "cell_type": "markdown",
   "metadata": {},
   "source": [
    "### Creating new columns"
   ]
  },
  {
   "cell_type": "markdown",
   "metadata": {},
   "source": [
    "First, let's create a \"sandbox\" data frame that we can safely modify by using the `DataFrame.copy` method."
   ]
  },
  {
   "cell_type": "code",
   "execution_count": null,
   "metadata": {},
   "outputs": [],
   "source": [
    "states2 = states.copy()"
   ]
  },
  {
   "cell_type": "markdown",
   "metadata": {},
   "source": [
    "> WEEDS: The reason we can't just do something like `states2 = states` is that Pandas does a \"shallow copy\" by default, which means that rather than copying the entire `states` object, this just creates a new reference to the same object.\n",
    "> In other words, if we just did `states2 = states`, any changes we made to `states2` _would also apply to_ `states`, because both of those variables point to the same object in the computer's memory.\n",
    "> This is actually pretty useful for memory efficiency, but is a bit counterintuitive and counter to our immediate aims here---hence, `states2 = states.copy()`."
   ]
  },
  {
   "cell_type": "markdown",
   "metadata": {},
   "source": [
    "You can use similar syntax for selecting columns (Method 1) to create new ones."
   ]
  },
  {
   "cell_type": "code",
   "execution_count": null,
   "metadata": {},
   "outputs": [],
   "source": [
    "states2[\"dummy_column\"] = 42\n",
    "states2.info()"
   ]
  },
  {
   "cell_type": "markdown",
   "metadata": {},
   "source": [
    "However, note that you _cannot_ create new columns by using the `object.attribute` syntax.\n",
    "Confusingly, this *will not throw an error*, but will silently do nothing.*\n",
    "\n",
    "> \\* Technically, it creates a new attribute for the object that you will be able to access and do things with. But this is pretty non-standard practice, and if you're not careful, you could potentially accidentally overwrite important methods that prevent the data frame from working correctly. So I would avoid this. "
   ]
  },
  {
   "cell_type": "markdown",
   "metadata": {},
   "source": [
    "Note that although we passed only one value to the data frame, it was automatically \"recycled\" to every row."
   ]
  },
  {
   "cell_type": "code",
   "execution_count": null,
   "metadata": {
    "scrolled": true
   },
   "outputs": [],
   "source": [
    "states2[\"dummy_column\"].head()"
   ]
  },
  {
   "cell_type": "markdown",
   "metadata": {},
   "source": [
    "A common use case for creating new columns is doing math on existing columns.\n",
    "For example, let's convert the state land areas from square meters to hectares (1 ha = 100 m x 100 m = 10,000 m$^2$)."
   ]
  },
  {
   "cell_type": "code",
   "execution_count": null,
   "metadata": {},
   "outputs": [],
   "source": [
    "# Note the use of 10000.0, not just 10000, to avoid integer math\n",
    "states2[\"ALAND_ha\"] = states2[\"ALAND\"] / 10000.0\n",
    "states2[[\"NAME\", \"ALAND\", \"ALAND_ha\"]].head()"
   ]
  },
  {
   "cell_type": "markdown",
   "metadata": {},
   "source": [
    "(In case you haven't seen it before, `e+06` is scientific notation, i.e. `6.22e+06` means $6.22 \\times 10^6$)."
   ]
  },
  {
   "cell_type": "markdown",
   "metadata": {},
   "source": [
    "---\n",
    "**EXERCISE**:\n",
    "Create a column `TOTAL_AREA` that is the sum of land and water area for each state."
   ]
  },
  {
   "cell_type": "code",
   "execution_count": null,
   "metadata": {},
   "outputs": [],
   "source": [
    "# Answer here"
   ]
  },
  {
   "cell_type": "markdown",
   "metadata": {},
   "source": [
    "---\n",
    "Column assignment can also be used to modify existing columns in place.\n",
    "\n",
    "The `REGION` and `DIVISION` columns are stored as strings, but since they are all integers, let's convert them to make our lives easier."
   ]
  },
  {
   "cell_type": "code",
   "execution_count": null,
   "metadata": {},
   "outputs": [],
   "source": [
    "states2[[\"REGION\", \"DIVISION\"]].head()"
   ]
  },
  {
   "cell_type": "markdown",
   "metadata": {},
   "source": [
    "To convert columns to a different type, us the `astype()` method.\n",
    "\n",
    "One way to do this is for multiple columns is with a `for` loop:"
   ]
  },
  {
   "cell_type": "code",
   "execution_count": null,
   "metadata": {},
   "outputs": [],
   "source": [
    "int_cols = [\"REGION\", \"DIVISION\"]\n",
    "for col in int_cols:\n",
    "    states2[col] = states2[col].astype(int)\n",
    "states2.info()"
   ]
  },
  {
   "cell_type": "markdown",
   "metadata": {},
   "source": [
    "Fortunately, Pandas also allows this function to work on multiple columns in one go:"
   ]
  },
  {
   "cell_type": "code",
   "execution_count": null,
   "metadata": {},
   "outputs": [],
   "source": [
    "states2[int_cols] = states2[int_cols].astype(int)\n",
    "states2.info()"
   ]
  },
  {
   "cell_type": "markdown",
   "metadata": {},
   "source": [
    "**QUESTION**: The `STATEFP` and `STATEENS` columns are also digits that are stored as strings.\n",
    "Why might it be a good idea to keep them as strings?\n",
    "(HINT: Consider ZIP codes. Look up the ZIP code for Brookline, MA, and try to store it as an integer. What happens?) "
   ]
  },
  {
   "cell_type": "markdown",
   "metadata": {},
   "source": [
    "{Your answer here}"
   ]
  },
  {
   "cell_type": "markdown",
   "metadata": {},
   "source": [
    "**QUESTION**:\n",
    "Why might `float` be a better type for the `ALAND` and `AWATER` columns?"
   ]
  },
  {
   "cell_type": "markdown",
   "metadata": {},
   "source": [
    "{Your answer here}"
   ]
  },
  {
   "cell_type": "markdown",
   "metadata": {},
   "source": [
    "**EXERCISE**:\n",
    "Convert these two columns to `float`.\n",
    "Use the `info()` method to confirm that your code worked."
   ]
  },
  {
   "cell_type": "code",
   "execution_count": null,
   "metadata": {},
   "outputs": [],
   "source": [
    "# Your answer here"
   ]
  },
  {
   "cell_type": "markdown",
   "metadata": {},
   "source": [
    "**EXERCISE**:\n",
    "Create new columns `FRAC_LAND` and `FRAC_WATER` containing the area fractions of land and water, respectivly, for each state."
   ]
  },
  {
   "cell_type": "markdown",
   "metadata": {},
   "source": [
    "## Pandas review: Working with rows"
   ]
  },
  {
   "cell_type": "markdown",
   "metadata": {},
   "source": [
    "Somewhat confusingly, the `[]` operators in Pandas can be used to select rows, but _only_ if they are passed _slices_."
   ]
  },
  {
   "cell_type": "code",
   "execution_count": null,
   "metadata": {},
   "outputs": [],
   "source": [
    "states[0:4]"
   ]
  },
  {
   "cell_type": "markdown",
   "metadata": {},
   "source": [
    "Again, this _only_ works for _slices_ defined with the `start:end` syntax.\n",
    "The following will not work:"
   ]
  },
  {
   "cell_type": "code",
   "execution_count": null,
   "metadata": {},
   "outputs": [],
   "source": [
    "states[1]"
   ]
  },
  {
   "cell_type": "markdown",
   "metadata": {},
   "source": [
    "To select individual rows this way, you will have to be clever about creating slices containing only one number."
   ]
  },
  {
   "cell_type": "code",
   "execution_count": null,
   "metadata": {},
   "outputs": [],
   "source": [
    "states[3:4]"
   ]
  },
  {
   "cell_type": "markdown",
   "metadata": {},
   "source": [
    "To review, the `head(n)` and `tail(n)` methods can be used to select the first and last `n` rows of a data frame."
   ]
  },
  {
   "cell_type": "code",
   "execution_count": null,
   "metadata": {},
   "outputs": [],
   "source": [
    "states.head(3)"
   ]
  },
  {
   "cell_type": "code",
   "execution_count": null,
   "metadata": {},
   "outputs": [],
   "source": [
    "states.tail(4)"
   ]
  },
  {
   "cell_type": "markdown",
   "metadata": {},
   "source": [
    "A more useful way to select rows is based on values of specific columns.\n",
    "\n",
    "First, let's see how comparison operators (`==`, `>`, etc.) work on columns."
   ]
  },
  {
   "cell_type": "code",
   "execution_count": null,
   "metadata": {},
   "outputs": [],
   "source": [
    "states[\"NAME\"] == \"West Virginia\""
   ]
  },
  {
   "cell_type": "markdown",
   "metadata": {},
   "source": [
    "Note that this returns a `Series` (Pandas class for a column) of type `bool` (boolean), with value `True` where the condition is met (only in the first row) and `False` everywhere else.\n",
    "\n",
    "We can then use this series for subsetting."
   ]
  },
  {
   "cell_type": "code",
   "execution_count": null,
   "metadata": {},
   "outputs": [],
   "source": [
    "wv = states[\"NAME\"] == \"West Virginia\"\n",
    "states[wv]"
   ]
  },
  {
   "cell_type": "markdown",
   "metadata": {},
   "source": [
    "You can combine multiple conditions using the `&` (\"bitwise and\") or `|` (\"bitwise or\") operators (but, note that each statement has to be wrapped in parentheses, `()`)."
   ]
  },
  {
   "cell_type": "markdown",
   "metadata": {},
   "source": [
    "For example, this selects some really small states (area < $10^9 \\text{m}^2$)."
   ]
  },
  {
   "cell_type": "code",
   "execution_count": null,
   "metadata": {},
   "outputs": [],
   "source": [
    "states[states[\"ALAND\"] < 10e9]"
   ]
  },
  {
   "cell_type": "markdown",
   "metadata": {},
   "source": [
    "This selects really small states that are also in region 3 (again, pay attention to the parentheses)."
   ]
  },
  {
   "cell_type": "code",
   "execution_count": null,
   "metadata": {},
   "outputs": [],
   "source": [
    "states[(states[\"ALAND\"] < 10e9) & (states[\"REGION\"] == \"3\")]"
   ]
  },
  {
   "cell_type": "markdown",
   "metadata": {},
   "source": [
    "Meanwhile, this selects some really small states and some really large ones (area less than $10^9 \\text{m}^2$ or greater than $10^{12} \\text{m}^2$)."
   ]
  },
  {
   "cell_type": "code",
   "execution_count": null,
   "metadata": {},
   "outputs": [],
   "source": [
    "states[(states[\"ALAND\"] < 1e9) | (states[\"ALAND\"] > 1e12)]"
   ]
  },
  {
   "cell_type": "markdown",
   "metadata": {},
   "source": [
    "As you can see, \"bitwise\" here means that these operators will text the conditional statement element by element. For example:\n",
    "```\n",
    "(True True False) &\n",
    "(True False True)\n",
    "------------------\n",
    "(True False False)\n",
    "\n",
    "(True True False) |\n",
    "(True False True)\n",
    "------------------\n",
    "(True True True)\n",
    "```\n",
    "\n",
    "These should not be confused with the logical operators `and` and `or`, which always return a single `True` or `False` and are therefore more useful in `if-else` statements.\n",
    "For more information, see [this Stack Overflow post](https://stackoverflow.com/questions/22646463/and-boolean-vs-bitwise-why-difference-in-behavior-with-lists-vs-nump)."
   ]
  },
  {
   "cell_type": "markdown",
   "metadata": {},
   "source": [
    "Another useful operation is the `isin` method for selecting values that are members of a specific set."
   ]
  },
  {
   "cell_type": "code",
   "execution_count": null,
   "metadata": {},
   "outputs": [],
   "source": [
    "my_subset = [\"WV\", \"AK\", \"OK\"]\n",
    "states[states[\"STUSPS\"].isin(my_subset)]"
   ]
  },
  {
   "cell_type": "markdown",
   "metadata": {},
   "source": [
    "Finally, any of these conditions can be negated with the `~` (\"bitwise not\") operator.\n",
    "This \"flips\" every logical element to its opposite value.\n",
    "For example:\n",
    "\n",
    "```\n",
    "~(True True False) --> (False False True)\n",
    "```\n",
    "\n",
    "For example, the following code selects every state _except_ West Virginia and Florida."
   ]
  },
  {
   "cell_type": "code",
   "execution_count": null,
   "metadata": {},
   "outputs": [],
   "source": [
    "states[~(states.STUSPS.isin([\"WV\", \"FL\"]))]"
   ]
  },
  {
   "cell_type": "markdown",
   "metadata": {},
   "source": [
    "---\n",
    "**EXERCISE**:\n",
    "Select states whose land area is between $10^9$ and $10^{10}$ square meters."
   ]
  },
  {
   "cell_type": "code",
   "execution_count": null,
   "metadata": {},
   "outputs": [],
   "source": [
    "# Answer here"
   ]
  },
  {
   "cell_type": "markdown",
   "metadata": {},
   "source": [
    "**EXERCISE**:\n",
    "Select states in regions 1 and 2."
   ]
  },
  {
   "cell_type": "code",
   "execution_count": null,
   "metadata": {},
   "outputs": [],
   "source": [
    "# Answer"
   ]
  },
  {
   "cell_type": "markdown",
   "metadata": {},
   "source": [
    "**EXERCISE**: Select every state that is _not_ in region 9."
   ]
  },
  {
   "cell_type": "code",
   "execution_count": null,
   "metadata": {},
   "outputs": [],
   "source": [
    "# Answer"
   ]
  },
  {
   "cell_type": "markdown",
   "metadata": {},
   "source": [
    "---"
   ]
  },
  {
   "cell_type": "markdown",
   "metadata": {},
   "source": [
    "## Geopandas: Basics and simple maps"
   ]
  },
  {
   "cell_type": "markdown",
   "metadata": {},
   "source": [
    "Let's look more closely at the structure of the `states` `DataFrame`."
   ]
  },
  {
   "cell_type": "code",
   "execution_count": null,
   "metadata": {},
   "outputs": [],
   "source": [
    "states.info()"
   ]
  },
  {
   "cell_type": "markdown",
   "metadata": {},
   "source": [
    "Note that the last column is called `geometry` and has type `geometry`.\n",
    "This column stores the spatial information used by GIS software and analysis tools."
   ]
  },
  {
   "cell_type": "code",
   "execution_count": null,
   "metadata": {},
   "outputs": [],
   "source": [
    "states[\"geometry\"].head()"
   ]
  },
  {
   "cell_type": "markdown",
   "metadata": {},
   "source": [
    "We are dealing with vector data, so the geometry information consists of the vector type (e.g. Polygon, MultiPolygon, Line, Point) and its corresponding coordinate pairs."
   ]
  },
  {
   "cell_type": "markdown",
   "metadata": {},
   "source": [
    "Let's see what happens if we try to plot this."
   ]
  },
  {
   "cell_type": "code",
   "execution_count": null,
   "metadata": {},
   "outputs": [],
   "source": [
    "# NOTE: You may have to run this code block twice to get the map to appear.\n",
    "states.plot()"
   ]
  },
  {
   "cell_type": "markdown",
   "metadata": {},
   "source": [
    "It's not a very good one, but it's a map of the US states!\n",
    "\n",
    "Let's see if we can zoom in on a few states using the syntax we used earlier."
   ]
  },
  {
   "cell_type": "code",
   "execution_count": null,
   "metadata": {},
   "outputs": [],
   "source": [
    "states[states[\"NAME\"] == \"West Virginia\"].plot()"
   ]
  },
  {
   "cell_type": "markdown",
   "metadata": {},
   "source": [
    "---\n",
    "**EXERCISE**:\n",
    "Plot the states in region 1."
   ]
  },
  {
   "cell_type": "code",
   "execution_count": null,
   "metadata": {},
   "outputs": [],
   "source": [
    "# Answer here"
   ]
  },
  {
   "cell_type": "markdown",
   "metadata": {},
   "source": [
    "---"
   ]
  },
  {
   "cell_type": "markdown",
   "metadata": {},
   "source": [
    "### Thematic maps"
   ]
  },
  {
   "cell_type": "markdown",
   "metadata": {},
   "source": [
    "Geopandas makes it really easy to make thematic maps.\n",
    "Simply pass a column name to the `column` argument of `plot()`."
   ]
  },
  {
   "cell_type": "code",
   "execution_count": null,
   "metadata": {},
   "outputs": [],
   "source": [
    "states[states.REGION.isin([1,2])].plot(column = \"DIVISION\")"
   ]
  },
  {
   "cell_type": "markdown",
   "metadata": {},
   "source": [
    "For our current purposes, these crude, simple maps will suffice.\n",
    "You can find more information on adjusting map aesthetics in the [geopandas manual](http://geopandas.org/mapping.html)."
   ]
  },
  {
   "cell_type": "markdown",
   "metadata": {},
   "source": [
    "**EXERCISE**:\n",
    "Figure out which `REGION` Texas is in.\n",
    "Then, generate a map of that region with each state having its own color."
   ]
  },
  {
   "cell_type": "code",
   "execution_count": null,
   "metadata": {},
   "outputs": [],
   "source": [
    "# Answer here"
   ]
  },
  {
   "cell_type": "markdown",
   "metadata": {},
   "source": [
    "## Spatial joins"
   ]
  },
  {
   "cell_type": "markdown",
   "metadata": {},
   "source": [
    "Spatial joins combine information in two datasets based on their spatial relationships.\n",
    "A useful application for us is to combine our data on state boundaries with our data on congressional districts.\n",
    "\n",
    "First, let's read in the congressional district data."
   ]
  },
  {
   "cell_type": "code",
   "execution_count": null,
   "metadata": {},
   "outputs": [],
   "source": [
    "cd116 = gpd.read_file(cdfile)\n",
    "cd116.info()"
   ]
  },
  {
   "cell_type": "code",
   "execution_count": null,
   "metadata": {},
   "outputs": [],
   "source": [
    "cd116[[\"NAMELSAD\", \"geometry\"]].head()"
   ]
  },
  {
   "cell_type": "code",
   "execution_count": null,
   "metadata": {},
   "outputs": [],
   "source": [
    "states[[\"NAME\", \"geometry\"]].head()"
   ]
  },
  {
   "cell_type": "markdown",
   "metadata": {},
   "source": [
    "To combine these two, we use the `geopandas.sjoin` method.\n",
    "This will take two geometries and the kind of spatial relationship by which they will be joined.\n",
    "In this case, we expect that congressional districts will be `\"within\"` their corresponding states, which means, formally, that one object's boundaries intersect the interior of the other object."
   ]
  },
  {
   "cell_type": "code",
   "execution_count": null,
   "metadata": {},
   "outputs": [],
   "source": [
    "districts = gpd.sjoin(cd116, states, op = \"within\")"
   ]
  },
  {
   "cell_type": "markdown",
   "metadata": {},
   "source": [
    "Now, let's inspect the resulting object."
   ]
  },
  {
   "cell_type": "code",
   "execution_count": null,
   "metadata": {},
   "outputs": [],
   "source": [
    "districts.info()"
   ]
  },
  {
   "cell_type": "code",
   "execution_count": null,
   "metadata": {},
   "outputs": [],
   "source": [
    "districts.sort_values([\"NAME\", \"NAMELSAD\"])"
   ]
  },
  {
   "cell_type": "markdown",
   "metadata": {},
   "source": [
    "The resulting `districts` data frame now has the attributes of the `states` and `cd116` data frames combined together.\n",
    "This means that we can now operate on them together.\n",
    "\n",
    "For example, let's plot the congressional districts in Alabama."
   ]
  },
  {
   "cell_type": "code",
   "execution_count": null,
   "metadata": {},
   "outputs": [],
   "source": [
    "districts[districts.NAME == \"Alabama\"].plot(column = \"NAMELSAD\")"
   ]
  },
  {
   "cell_type": "markdown",
   "metadata": {},
   "source": [
    "---\n",
    "**EXERCISE**:\n",
    "Plot the congressional districts of your home state and its two neighbors."
   ]
  },
  {
   "cell_type": "code",
   "execution_count": null,
   "metadata": {},
   "outputs": [],
   "source": [
    "# Answer here"
   ]
  },
  {
   "cell_type": "markdown",
   "metadata": {},
   "source": [
    "### Exporting shapefiles"
   ]
  },
  {
   "cell_type": "markdown",
   "metadata": {},
   "source": [
    "Now, we can use our new data frame to create shapefiles for individual states.\n",
    "The method for doing this is `object.to_file()`.\n",
    "Geopandas is smart enough to figure out the type of object to export from the file extension."
   ]
  },
  {
   "cell_type": "code",
   "execution_count": null,
   "metadata": {},
   "outputs": [],
   "source": [
    "mystate = \"Arkansas\"\n",
    "result = districts[districts.NAME == mystate]\n",
    "result.head()"
   ]
  },
  {
   "cell_type": "markdown",
   "metadata": {},
   "source": [
    "To stay organized, let's create an `\"output\"` directory and store the results there."
   ]
  },
  {
   "cell_type": "code",
   "execution_count": null,
   "metadata": {
    "scrolled": true
   },
   "outputs": [],
   "source": [
    "outdir = \"output\"\n",
    "if (not os.path.exists(outdir)):\n",
    "    os.mkdir(outdir)\n",
    "alabama.to_file(os.path.join(outdir, \"alabama.shp\"))"
   ]
  },
  {
   "cell_type": "markdown",
   "metadata": {},
   "source": [
    "---\n",
    "**EXERCISE**:\n",
    "Use a `for` loop to export the shapefiles of 5 states of your choice."
   ]
  },
  {
   "cell_type": "markdown",
   "metadata": {},
   "source": [
    "### Attribute joins"
   ]
  },
  {
   "cell_type": "markdown",
   "metadata": {},
   "source": [
    "The previous example involved a _spatial join_, in which we matched two different datasets based on a spatial relationship.\n",
    "Another kind of join is an _attribute join_, which, as its name suggests, combines two different datasets based on one or more overlapping attributes (columns)."
   ]
  },
  {
   "cell_type": "markdown",
   "metadata": {},
   "source": [
    "Consider the following conceptual example.\n",
    "(Aside: Notice this syntax for creating `DataFrames` using `dict`s)."
   ]
  },
  {
   "cell_type": "code",
   "execution_count": null,
   "metadata": {},
   "outputs": [],
   "source": [
    "import pandas as pd\n",
    "\n",
    "food_types = pd.DataFrame({\n",
    "    \"food_type\" : [\"fruit\", \"fruit\", \"vegetable\"],\n",
    "    \"food\" : [\"apple\", \"orange\", \"cucumber\"]\n",
    "})\n",
    "\n",
    "food_prices = pd.DataFrame({\n",
    "    \"food\" : [\"cucumber\", \"orange\", \"apple\"],\n",
    "    \"price\" : [1.75, 1.2, 0.89]\n",
    "})\n",
    "\n",
    "print(\"Food types:\")\n",
    "print(food_types)\n",
    "print(\"Food prices:\")\n",
    "print(food_prices)"
   ]
  },
  {
   "cell_type": "markdown",
   "metadata": {},
   "source": [
    "Suppose we wanted to calculate average food price by food type.\n",
    "To do that, we need to combine these two data frames based on something they have in common -- in this case, the `food` column.\n",
    "This can be accomplished via the `merge()` method."
   ]
  },
  {
   "cell_type": "code",
   "execution_count": null,
   "metadata": {},
   "outputs": [],
   "source": [
    "food_both = food_types.merge(food_prices, on=\"food\")\n",
    "food_both"
   ]
  },
  {
   "cell_type": "markdown",
   "metadata": {},
   "source": [
    "The `merge` function takes two required arguments---the two data frames being combined---and an optional `on=` arugment that specifies which column(s) the two data frames have in common.\n",
    "Now that the data are combined, we can calculate the average price by combining `groupby` and `mean`. "
   ]
  },
  {
   "cell_type": "code",
   "execution_count": null,
   "metadata": {},
   "outputs": [],
   "source": [
    "food_both.groupby(\"food_type\").mean()"
   ]
  },
  {
   "cell_type": "markdown",
   "metadata": {},
   "source": [
    "Now, let's apply this principle to real data.\n",
    "Following with our theme about states and electoral districts, we will use the statewide election results from the [MIT Election Data lab](https://electionlab.mit.edu/data).\n",
    "Again, we can use some Python code to download this data automatically."
   ]
  },
  {
   "cell_type": "code",
   "execution_count": null,
   "metadata": {},
   "outputs": [],
   "source": [
    "election_file = os.path.join(data_dir, \"president-bystate.csv\")\n",
    "\n",
    "if not os.path.exists(election_file):\n",
    "    election_url = \"https://dataverse.harvard.edu/api/access/datafile/3444051?format=original&gbrecs=true\"\n",
    "    urllib.request.urlretrieve(election_url, election_file)\n",
    "\n",
    "election_full = pd.read_csv(election_file)\n",
    "election_full.head()"
   ]
  },
  {
   "cell_type": "code",
   "execution_count": null,
   "metadata": {},
   "outputs": [],
   "source": [
    "election_full.shape"
   ]
  },
  {
   "cell_type": "markdown",
   "metadata": {},
   "source": [
    "This dataset contains the vote counts in every presidential election from 1976 to 2016 by state and candidate."
   ]
  },
  {
   "cell_type": "markdown",
   "metadata": {},
   "source": [
    "---\n",
    "**EXERCISE**:\n",
    "Use your pandas subsetting skills to answer the following questions.\n",
    "Show your work!"
   ]
  },
  {
   "cell_type": "markdown",
   "metadata": {},
   "source": [
    "(1) Who won California in the 1984 election?"
   ]
  },
  {
   "cell_type": "code",
   "execution_count": null,
   "metadata": {},
   "outputs": [],
   "source": [
    "# Answer here"
   ]
  },
  {
   "cell_type": "markdown",
   "metadata": {},
   "source": [
    "(2) What was the largest ever vote _fraction_ won by a third-party candidate?\n",
    "In what year and state state did that in?"
   ]
  },
  {
   "cell_type": "code",
   "execution_count": null,
   "metadata": {},
   "outputs": [],
   "source": [
    "# Answer here"
   ]
  },
  {
   "cell_type": "markdown",
   "metadata": {},
   "source": [
    "---"
   ]
  },
  {
   "cell_type": "markdown",
   "metadata": {},
   "source": [
    "Now that we have some familiarity with this dataset, let's use it to create an election map by combining it with our current state shapefile.\n",
    "First, let's identify which columns we will use for the merge."
   ]
  },
  {
   "cell_type": "code",
   "execution_count": null,
   "metadata": {},
   "outputs": [],
   "source": [
    "election_full.sort_values(\"state\").head()"
   ]
  },
  {
   "cell_type": "code",
   "execution_count": null,
   "metadata": {},
   "outputs": [],
   "source": [
    "states.sort_values(\"NAME\").head()"
   ]
  },
  {
   "cell_type": "markdown",
   "metadata": {},
   "source": [
    "Looks like we have several candidate attributes that we can use for the join.\n",
    "For the purposes of this exercise, let's use the state two-letter code (\"AZ\", \"TX\", etc.).\n",
    "However, we have a problem: this attribute is named different things in the two datasets---`STUSPS` in `states` and `state_po` in `election_full`.\n",
    "Fortunately, this is a common use case that `merge` is well-equipped to handle;\n",
    "we just have to replace the use of `on` with more specific `left_on` (corresponding to the first argument) and `right_on` (the second argument): "
   ]
  },
  {
   "cell_type": "code",
   "execution_count": null,
   "metadata": {},
   "outputs": [],
   "source": [
    "election_geo = states.merge(\n",
    "    election_full,\n",
    "    left_on = \"STUSPS\",\n",
    "    right_on = \"state_po\"\n",
    ")"
   ]
  },
  {
   "cell_type": "code",
   "execution_count": null,
   "metadata": {},
   "outputs": [],
   "source": [
    "election_geo.head()"
   ]
  },
  {
   "cell_type": "markdown",
   "metadata": {},
   "source": [
    "Et voila! We now have a combined election data frame.\n",
    "Let's use this to generate a map of state voting patterns.\n",
    "\n",
    "> For now, don't worry about totally understanding the more involved plotting code here. We will cover this in more detail later."
   ]
  },
  {
   "cell_type": "code",
   "execution_count": null,
   "metadata": {},
   "outputs": [],
   "source": [
    "import matplotlib.pyplot as plt\n",
    "\n",
    "# Set up two \"subplots\" within the figure:\n",
    "# One for for the map, and one for the legend.\n",
    "# This creates two objects, `fig` and `ax`.\n",
    "fig, ax = plt.subplots(1, 1)\n",
    "\n",
    "# This restricts the x-axis from -180 to -60 longitude.\n",
    "# Otherwise, the Aleutian islands end up on the far right of the plot.\n",
    "plt.xlim(-180, -60)\n",
    "\n",
    "# This draws the plot itself\n",
    "(election_geo[\n",
    "    (election_geo.year == 2016) &\n",
    "    (election_geo.party == \"republican\")]\n",
    " .plot(ax = ax, column = \"candidatevotes\", legend = True))\n",
    "# `ax = ax` tells this to use the axes we've configured.\n",
    "# `legend = True` says to also plot the legend."
   ]
  },
  {
   "cell_type": "markdown",
   "metadata": {},
   "source": [
    "This is not a particularly useful map because it's [just a map of population](https://xkcd.com/1138/).\n",
    "A better map would show the _fraction_ of the republican vote."
   ]
  },
  {
   "cell_type": "code",
   "execution_count": null,
   "metadata": {},
   "outputs": [],
   "source": [
    "election_geo[\"candidate_frac\"] = election_geo.candidatevotes / election_geo.totalvotes\n",
    "\n",
    "fig, ax = plt.subplots(1, 1)\n",
    "plt.xlim(-180, -60)\n",
    "(election_geo[\n",
    "    (election_geo.year == 2016) &\n",
    "    (election_geo.party == \"republican\")]\n",
    " .plot(ax = ax, column = \"candidate_frac\", legend = True))"
   ]
  },
  {
   "cell_type": "markdown",
   "metadata": {},
   "source": [
    "That's a bit better!\n",
    "However, the continuous color gradient makes it difficult to pick out who won the election in any given state."
   ]
  },
  {
   "cell_type": "markdown",
   "metadata": {},
   "source": [
    "Doing this in Pandas is a bit complicated, so let's work through a contrived example."
   ]
  },
  {
   "cell_type": "code",
   "execution_count": null,
   "metadata": {},
   "outputs": [],
   "source": [
    "test_df = pd.DataFrame({\n",
    "    \"year\" : [1997, 1997, 1998, 1998, 1999, 1999],\n",
    "    \"value\" : [1.0, 1.3, 1.6, 1.9, 1.4, 1.5]\n",
    "})\n",
    "test_df"
   ]
  },
  {
   "cell_type": "markdown",
   "metadata": {},
   "source": [
    "First, we introduce the `idxmax()`, which returns the index corresponding to the maximum value of a data frame."
   ]
  },
  {
   "cell_type": "code",
   "execution_count": null,
   "metadata": {},
   "outputs": [],
   "source": [
    "test_df.idxmax()"
   ]
  },
  {
   "cell_type": "markdown",
   "metadata": {},
   "source": [
    "This is saying that the maximum value of the `value` column occurs in index 3 (the 4th row), while the maximum value of year occurs in index 4 (the 5th row).\n",
    "(Note that in case of a tie, as we have here, it defaults to the lowest index)."
   ]
  },
  {
   "cell_type": "markdown",
   "metadata": {},
   "source": [
    "We can combine this with `groupby()` to get the index of the largest value _within each group_."
   ]
  },
  {
   "cell_type": "code",
   "execution_count": null,
   "metadata": {},
   "outputs": [],
   "source": [
    "test_df.groupby(\"year\").idxmax()"
   ]
  },
  {
   "cell_type": "markdown",
   "metadata": {},
   "source": [
    "This is saying that the maximum `value` for year 1997 is in index 1 (2nd row), for year 1998 in index 3 (4th row), and for year 1999 in index 5 (6th row)."
   ]
  },
  {
   "cell_type": "markdown",
   "metadata": {},
   "source": [
    "This is still a data frame, but what we really want is just the row indices corresponding to the values we want to maximize.\n",
    "So let's pull that out."
   ]
  },
  {
   "cell_type": "code",
   "execution_count": null,
   "metadata": {},
   "outputs": [],
   "source": [
    "test_df.groupby(\"year\").idxmax()[\"value\"]"
   ]
  },
  {
   "cell_type": "markdown",
   "metadata": {},
   "source": [
    "This gives us a `Series`, which can be used for indexing.\n",
    "Finally, to get the values themselves, we need a way to retrieve rows given multiple indices.\n",
    "This is what the `loc` attribute does.\n",
    "(Note the use of hard brackets below)."
   ]
  },
  {
   "cell_type": "code",
   "execution_count": null,
   "metadata": {},
   "outputs": [],
   "source": [
    "test_df.loc[[1,2,4]]"
   ]
  },
  {
   "cell_type": "markdown",
   "metadata": {},
   "source": [
    "We now have everything we need, so let's put it all together!"
   ]
  },
  {
   "cell_type": "code",
   "execution_count": null,
   "metadata": {},
   "outputs": [],
   "source": [
    "test_df.loc[test_df.groupby(\"year\").idxmax()[\"value\"]]"
   ]
  },
  {
   "cell_type": "markdown",
   "metadata": {},
   "source": [
    "---\n",
    "**EXERCISE**:\n",
    "Use this template to retrieve the election winners by state and year from our election data.\n",
    "(Replace the `?????` with the correct code."
   ]
  },
  {
   "cell_type": "code",
   "execution_count": null,
   "metadata": {},
   "outputs": [],
   "source": [
    "# Answer\n",
    "election_winners = election_geo.?????[\n",
    "    election_geo.?????([\"??????\", \"?????\"]).?????()[\"?????\"]\n",
    "]\n",
    "election_winners.info()"
   ]
  },
  {
   "cell_type": "markdown",
   "metadata": {},
   "source": [
    "---"
   ]
  },
  {
   "cell_type": "code",
   "execution_count": null,
   "metadata": {},
   "outputs": [],
   "source": [
    "election_winners = election_geo.loc[\n",
    "    election_geo.groupby([\"year\", \"STATEFP\"]).idxmax()[\"candidatevotes\"]\n",
    "]\n",
    "election_winners.head()"
   ]
  },
  {
   "cell_type": "markdown",
   "metadata": {},
   "source": [
    "Now, let's use this result to generate a map of the 2016 election."
   ]
  },
  {
   "cell_type": "code",
   "execution_count": null,
   "metadata": {},
   "outputs": [],
   "source": [
    "fig, ax = plt.subplots(1, 1)\n",
    "plt.xlim(-180, -60)\n",
    "\n",
    "(election_winners[election_geo.year == 2016].plot(ax = ax, column = \"party\", legend = True))"
   ]
  },
  {
   "cell_type": "markdown",
   "metadata": {},
   "source": [
    "---\n",
    "**EXERCISE**:\n",
    "\n",
    "(1) Generate a plot of the 2012 election, but assign the labels to the name of the candidate (rather than the party)."
   ]
  },
  {
   "cell_type": "code",
   "execution_count": null,
   "metadata": {},
   "outputs": [],
   "source": [
    "# Answer here"
   ]
  },
  {
   "cell_type": "markdown",
   "metadata": {},
   "source": [
    "(2) Save the `election_winners` data frame to a shapefile called `output/election_winners.shp`. "
   ]
  },
  {
   "cell_type": "code",
   "execution_count": null,
   "metadata": {},
   "outputs": [],
   "source": [
    "# Answer here"
   ]
  }
 ],
 "metadata": {
  "kernelspec": {
   "display_name": "Python 2",
   "language": "python",
   "name": "python2"
  },
  "language_info": {
   "codemirror_mode": {
    "name": "ipython",
    "version": 2
   },
   "file_extension": ".py",
   "mimetype": "text/x-python",
   "name": "python",
   "nbconvert_exporter": "python",
   "pygments_lexer": "ipython2",
   "version": "2.7.17"
  }
 },
 "nbformat": 4,
 "nbformat_minor": 4
}
