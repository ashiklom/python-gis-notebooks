{
 "cells": [
  {
   "cell_type": "markdown",
   "metadata": {},
   "source": [
    "# Geopandas\n",
    "\n",
    "Geopandas provides a pandas-like syntax for geospatial operations."
   ]
  },
  {
   "cell_type": "markdown",
   "metadata": {},
   "source": [
    "Let's start by reading in some data.\n",
    "Because it's familiar, we'll again use the US Census state boundaries and congressional districts.\n",
    "The following code block will grab this data for you."
   ]
  },
  {
   "cell_type": "markdown",
   "metadata": {},
   "source": [
    "**EXERCISE:**\n",
    "Run the following code block.\n",
    "While it's running, annotate it with comments describing what each of the lines does."
   ]
  },
  {
   "cell_type": "code",
   "execution_count": 12,
   "metadata": {},
   "outputs": [],
   "source": [
    "import os\n",
    "import zipfile\n",
    "\n",
    "# For Python 2-3 compatibility\n",
    "from future.standard_library import install_aliases\n",
    "install_aliases()\n",
    "\n",
    "import urllib.request\n",
    "\n",
    "data_dir = \"data\"\n",
    "if (not os.path.exists(data_dir)):\n",
    "    os.mkdir(data_dir)\n",
    "    \n",
    "state_url = \"https://www2.census.gov/geo/tiger/TIGER2016/STATE/tl_2016_us_state.zip\"\n",
    "state_dir = os.path.join(data_dir, \"tl_2016_us_state\")\n",
    "state_zip = \"%s.zip\" % state_dir\n",
    "statefile = os.path.join(state_dir, \"tl_2016_us_state.shp\")\n",
    "\n",
    "if (not os.path.exists(statefile)):\n",
    "    if (~os.path.exists(state_zip)):\n",
    "        urllib.request.urlretrieve(state_url, state_zip)\n",
    "    zipfile.ZipFile(state_zip).extractall(state_dir)\n",
    "\n",
    "cd_url = \"https://www2.census.gov/geo/tiger/TIGER2016/CD/tl_2016_us_cd115.zip\"\n",
    "cd_dir = os.path.join(data_dir, \"tl_2016_us_cd115\")\n",
    "cd_zip = \"%s.zip\" % cd_dir\n",
    "cdfile = os.path.join(cd_dir, \"tl_2016_us_cd115.shp\")\n",
    "\n",
    "if (not os.path.exists(cdfile)):\n",
    "    if (~os.path.exists(cd_zip)):\n",
    "        urllib.request.urlretrieve(cd_url, cd_zip)\n",
    "    zipfile.ZipFile(cd_zip).extractall(state_dir)"
   ]
  },
  {
   "cell_type": "markdown",
   "metadata": {},
   "source": [
    "Now, let's load geopandas and read our first file."
   ]
  },
  {
   "cell_type": "code",
   "execution_count": 9,
   "metadata": {},
   "outputs": [],
   "source": [
    "import geopandas as gpd\n",
    "\n",
    "states = gpd.read_file(statefile)"
   ]
  },
  {
   "cell_type": "code",
   "execution_count": 10,
   "metadata": {},
   "outputs": [
    {
     "data": {
      "text/html": [
       "<div>\n",
       "<style scoped>\n",
       "    .dataframe tbody tr th:only-of-type {\n",
       "        vertical-align: middle;\n",
       "    }\n",
       "\n",
       "    .dataframe tbody tr th {\n",
       "        vertical-align: top;\n",
       "    }\n",
       "\n",
       "    .dataframe thead th {\n",
       "        text-align: right;\n",
       "    }\n",
       "</style>\n",
       "<table border=\"1\" class=\"dataframe\">\n",
       "  <thead>\n",
       "    <tr style=\"text-align: right;\">\n",
       "      <th></th>\n",
       "      <th>REGION</th>\n",
       "      <th>DIVISION</th>\n",
       "      <th>STATEFP</th>\n",
       "      <th>STATENS</th>\n",
       "      <th>GEOID</th>\n",
       "      <th>STUSPS</th>\n",
       "      <th>NAME</th>\n",
       "      <th>LSAD</th>\n",
       "      <th>MTFCC</th>\n",
       "      <th>FUNCSTAT</th>\n",
       "      <th>ALAND</th>\n",
       "      <th>AWATER</th>\n",
       "      <th>INTPTLAT</th>\n",
       "      <th>INTPTLON</th>\n",
       "      <th>geometry</th>\n",
       "    </tr>\n",
       "  </thead>\n",
       "  <tbody>\n",
       "    <tr>\n",
       "      <td>0</td>\n",
       "      <td>3</td>\n",
       "      <td>5</td>\n",
       "      <td>54</td>\n",
       "      <td>01779805</td>\n",
       "      <td>54</td>\n",
       "      <td>WV</td>\n",
       "      <td>West Virginia</td>\n",
       "      <td>00</td>\n",
       "      <td>G4000</td>\n",
       "      <td>A</td>\n",
       "      <td>62265597146</td>\n",
       "      <td>489902816</td>\n",
       "      <td>+38.6472854</td>\n",
       "      <td>-080.6183274</td>\n",
       "      <td>POLYGON ((-81.747254 39.095379, -81.746354 39....</td>\n",
       "    </tr>\n",
       "    <tr>\n",
       "      <td>1</td>\n",
       "      <td>3</td>\n",
       "      <td>5</td>\n",
       "      <td>12</td>\n",
       "      <td>00294478</td>\n",
       "      <td>12</td>\n",
       "      <td>FL</td>\n",
       "      <td>Florida</td>\n",
       "      <td>00</td>\n",
       "      <td>G4000</td>\n",
       "      <td>A</td>\n",
       "      <td>138924199212</td>\n",
       "      <td>31386038155</td>\n",
       "      <td>+28.4574302</td>\n",
       "      <td>-082.4091478</td>\n",
       "      <td>(POLYGON ((-82.986238 24.61065, -82.987477 24....</td>\n",
       "    </tr>\n",
       "    <tr>\n",
       "      <td>2</td>\n",
       "      <td>2</td>\n",
       "      <td>3</td>\n",
       "      <td>17</td>\n",
       "      <td>01779784</td>\n",
       "      <td>17</td>\n",
       "      <td>IL</td>\n",
       "      <td>Illinois</td>\n",
       "      <td>00</td>\n",
       "      <td>G4000</td>\n",
       "      <td>A</td>\n",
       "      <td>143788697679</td>\n",
       "      <td>6206693598</td>\n",
       "      <td>+40.1028754</td>\n",
       "      <td>-089.1526108</td>\n",
       "      <td>POLYGON ((-91.185295 40.637803, -91.1751 40.64...</td>\n",
       "    </tr>\n",
       "    <tr>\n",
       "      <td>3</td>\n",
       "      <td>2</td>\n",
       "      <td>4</td>\n",
       "      <td>27</td>\n",
       "      <td>00662849</td>\n",
       "      <td>27</td>\n",
       "      <td>MN</td>\n",
       "      <td>Minnesota</td>\n",
       "      <td>00</td>\n",
       "      <td>G4000</td>\n",
       "      <td>A</td>\n",
       "      <td>206232257655</td>\n",
       "      <td>18929176411</td>\n",
       "      <td>+46.3158148</td>\n",
       "      <td>-094.1996628</td>\n",
       "      <td>POLYGON ((-96.784381 46.63050399999999, -96.78...</td>\n",
       "    </tr>\n",
       "    <tr>\n",
       "      <td>4</td>\n",
       "      <td>3</td>\n",
       "      <td>5</td>\n",
       "      <td>24</td>\n",
       "      <td>01714934</td>\n",
       "      <td>24</td>\n",
       "      <td>MD</td>\n",
       "      <td>Maryland</td>\n",
       "      <td>00</td>\n",
       "      <td>G4000</td>\n",
       "      <td>A</td>\n",
       "      <td>25147754905</td>\n",
       "      <td>6983312282</td>\n",
       "      <td>+38.9466584</td>\n",
       "      <td>-076.6744939</td>\n",
       "      <td>POLYGON ((-77.45880799999999 39.22027, -77.458...</td>\n",
       "    </tr>\n",
       "    <tr>\n",
       "      <td>5</td>\n",
       "      <td>1</td>\n",
       "      <td>1</td>\n",
       "      <td>44</td>\n",
       "      <td>01219835</td>\n",
       "      <td>44</td>\n",
       "      <td>RI</td>\n",
       "      <td>Rhode Island</td>\n",
       "      <td>00</td>\n",
       "      <td>G4000</td>\n",
       "      <td>A</td>\n",
       "      <td>2677898725</td>\n",
       "      <td>1323551636</td>\n",
       "      <td>+41.5974187</td>\n",
       "      <td>-071.5272723</td>\n",
       "      <td>(POLYGON ((-71.67264399999999 41.1342919999999...</td>\n",
       "    </tr>\n",
       "    <tr>\n",
       "      <td>6</td>\n",
       "      <td>4</td>\n",
       "      <td>8</td>\n",
       "      <td>16</td>\n",
       "      <td>01779783</td>\n",
       "      <td>16</td>\n",
       "      <td>ID</td>\n",
       "      <td>Idaho</td>\n",
       "      <td>00</td>\n",
       "      <td>G4000</td>\n",
       "      <td>A</td>\n",
       "      <td>214042908012</td>\n",
       "      <td>2398669593</td>\n",
       "      <td>+44.3484222</td>\n",
       "      <td>-114.5588538</td>\n",
       "      <td>POLYGON ((-116.899711 44.840609, -116.89967 44...</td>\n",
       "    </tr>\n",
       "    <tr>\n",
       "      <td>7</td>\n",
       "      <td>1</td>\n",
       "      <td>1</td>\n",
       "      <td>33</td>\n",
       "      <td>01779794</td>\n",
       "      <td>33</td>\n",
       "      <td>NH</td>\n",
       "      <td>New Hampshire</td>\n",
       "      <td>00</td>\n",
       "      <td>G4000</td>\n",
       "      <td>A</td>\n",
       "      <td>23187396994</td>\n",
       "      <td>1028678842</td>\n",
       "      <td>+43.6726907</td>\n",
       "      <td>-071.5843145</td>\n",
       "      <td>POLYGON ((-72.329899 43.600214, -72.329838 43....</td>\n",
       "    </tr>\n",
       "    <tr>\n",
       "      <td>8</td>\n",
       "      <td>3</td>\n",
       "      <td>5</td>\n",
       "      <td>37</td>\n",
       "      <td>01027616</td>\n",
       "      <td>37</td>\n",
       "      <td>NC</td>\n",
       "      <td>North Carolina</td>\n",
       "      <td>00</td>\n",
       "      <td>G4000</td>\n",
       "      <td>A</td>\n",
       "      <td>125921301190</td>\n",
       "      <td>13470062955</td>\n",
       "      <td>+35.5397100</td>\n",
       "      <td>-079.1308636</td>\n",
       "      <td>POLYGON ((-82.416738 36.072827, -82.416601 36....</td>\n",
       "    </tr>\n",
       "    <tr>\n",
       "      <td>9</td>\n",
       "      <td>1</td>\n",
       "      <td>1</td>\n",
       "      <td>50</td>\n",
       "      <td>01779802</td>\n",
       "      <td>50</td>\n",
       "      <td>VT</td>\n",
       "      <td>Vermont</td>\n",
       "      <td>00</td>\n",
       "      <td>G4000</td>\n",
       "      <td>A</td>\n",
       "      <td>23873467535</td>\n",
       "      <td>1031124865</td>\n",
       "      <td>+44.0604795</td>\n",
       "      <td>-072.6733274</td>\n",
       "      <td>POLYGON ((-73.313283 44.26413, -73.312741 44.2...</td>\n",
       "    </tr>\n",
       "    <tr>\n",
       "      <td>10</td>\n",
       "      <td>1</td>\n",
       "      <td>1</td>\n",
       "      <td>09</td>\n",
       "      <td>01779780</td>\n",
       "      <td>09</td>\n",
       "      <td>CT</td>\n",
       "      <td>Connecticut</td>\n",
       "      <td>00</td>\n",
       "      <td>G4000</td>\n",
       "      <td>A</td>\n",
       "      <td>12542638347</td>\n",
       "      <td>1815476291</td>\n",
       "      <td>+41.5797777</td>\n",
       "      <td>-072.7466665</td>\n",
       "      <td>POLYGON ((-73.51808 41.666723, -73.51807099999...</td>\n",
       "    </tr>\n",
       "    <tr>\n",
       "      <td>11</td>\n",
       "      <td>3</td>\n",
       "      <td>5</td>\n",
       "      <td>10</td>\n",
       "      <td>01779781</td>\n",
       "      <td>10</td>\n",
       "      <td>DE</td>\n",
       "      <td>Delaware</td>\n",
       "      <td>00</td>\n",
       "      <td>G4000</td>\n",
       "      <td>A</td>\n",
       "      <td>5047194742</td>\n",
       "      <td>1398720828</td>\n",
       "      <td>+38.9985380</td>\n",
       "      <td>-075.4416616</td>\n",
       "      <td>POLYGON ((-75.760074 39.296819, -75.7601009999...</td>\n",
       "    </tr>\n",
       "    <tr>\n",
       "      <td>12</td>\n",
       "      <td>4</td>\n",
       "      <td>8</td>\n",
       "      <td>35</td>\n",
       "      <td>00897535</td>\n",
       "      <td>35</td>\n",
       "      <td>NM</td>\n",
       "      <td>New Mexico</td>\n",
       "      <td>00</td>\n",
       "      <td>G4000</td>\n",
       "      <td>A</td>\n",
       "      <td>314169362533</td>\n",
       "      <td>755722962</td>\n",
       "      <td>+34.4346843</td>\n",
       "      <td>-106.1316181</td>\n",
       "      <td>POLYGON ((-106.006316 36.995267, -106.005314 3...</td>\n",
       "    </tr>\n",
       "    <tr>\n",
       "      <td>13</td>\n",
       "      <td>4</td>\n",
       "      <td>9</td>\n",
       "      <td>06</td>\n",
       "      <td>01779778</td>\n",
       "      <td>06</td>\n",
       "      <td>CA</td>\n",
       "      <td>California</td>\n",
       "      <td>00</td>\n",
       "      <td>G4000</td>\n",
       "      <td>A</td>\n",
       "      <td>403501101370</td>\n",
       "      <td>20466718403</td>\n",
       "      <td>+37.1551773</td>\n",
       "      <td>-119.5434183</td>\n",
       "      <td>(POLYGON ((-119.634719 33.265442, -119.636302 ...</td>\n",
       "    </tr>\n",
       "    <tr>\n",
       "      <td>14</td>\n",
       "      <td>1</td>\n",
       "      <td>2</td>\n",
       "      <td>34</td>\n",
       "      <td>01779795</td>\n",
       "      <td>34</td>\n",
       "      <td>NJ</td>\n",
       "      <td>New Jersey</td>\n",
       "      <td>00</td>\n",
       "      <td>G4000</td>\n",
       "      <td>A</td>\n",
       "      <td>19050755048</td>\n",
       "      <td>3541927612</td>\n",
       "      <td>+40.1072744</td>\n",
       "      <td>-074.6652012</td>\n",
       "      <td>POLYGON ((-75.1896 40.591776, -75.189765999999...</td>\n",
       "    </tr>\n",
       "    <tr>\n",
       "      <td>15</td>\n",
       "      <td>2</td>\n",
       "      <td>3</td>\n",
       "      <td>55</td>\n",
       "      <td>01779806</td>\n",
       "      <td>55</td>\n",
       "      <td>WI</td>\n",
       "      <td>Wisconsin</td>\n",
       "      <td>00</td>\n",
       "      <td>G4000</td>\n",
       "      <td>A</td>\n",
       "      <td>140273604537</td>\n",
       "      <td>29361386480</td>\n",
       "      <td>+44.6309071</td>\n",
       "      <td>-089.7093916</td>\n",
       "      <td>POLYGON ((-92.887067 45.644148, -92.886712 45....</td>\n",
       "    </tr>\n",
       "    <tr>\n",
       "      <td>16</td>\n",
       "      <td>4</td>\n",
       "      <td>9</td>\n",
       "      <td>41</td>\n",
       "      <td>01155107</td>\n",
       "      <td>41</td>\n",
       "      <td>OR</td>\n",
       "      <td>Oregon</td>\n",
       "      <td>00</td>\n",
       "      <td>G4000</td>\n",
       "      <td>A</td>\n",
       "      <td>248604268242</td>\n",
       "      <td>6195105690</td>\n",
       "      <td>+43.9717125</td>\n",
       "      <td>-120.6229578</td>\n",
       "      <td>POLYGON ((-124.065448 45.783054, -124.062056 4...</td>\n",
       "    </tr>\n",
       "    <tr>\n",
       "      <td>17</td>\n",
       "      <td>2</td>\n",
       "      <td>4</td>\n",
       "      <td>31</td>\n",
       "      <td>01779792</td>\n",
       "      <td>31</td>\n",
       "      <td>NE</td>\n",
       "      <td>Nebraska</td>\n",
       "      <td>00</td>\n",
       "      <td>G4000</td>\n",
       "      <td>A</td>\n",
       "      <td>198972706218</td>\n",
       "      <td>1356290940</td>\n",
       "      <td>+41.5433014</td>\n",
       "      <td>-099.8118616</td>\n",
       "      <td>POLYGON ((-104.052645 42.001718, -104.052634 4...</td>\n",
       "    </tr>\n",
       "    <tr>\n",
       "      <td>18</td>\n",
       "      <td>1</td>\n",
       "      <td>2</td>\n",
       "      <td>42</td>\n",
       "      <td>01779798</td>\n",
       "      <td>42</td>\n",
       "      <td>PA</td>\n",
       "      <td>Pennsylvania</td>\n",
       "      <td>00</td>\n",
       "      <td>G4000</td>\n",
       "      <td>A</td>\n",
       "      <td>115882226263</td>\n",
       "      <td>3396805575</td>\n",
       "      <td>+40.9024957</td>\n",
       "      <td>-077.8334514</td>\n",
       "      <td>POLYGON ((-80.51935399999999 41.849563, -80.51...</td>\n",
       "    </tr>\n",
       "    <tr>\n",
       "      <td>19</td>\n",
       "      <td>4</td>\n",
       "      <td>9</td>\n",
       "      <td>53</td>\n",
       "      <td>01779804</td>\n",
       "      <td>53</td>\n",
       "      <td>WA</td>\n",
       "      <td>Washington</td>\n",
       "      <td>00</td>\n",
       "      <td>G4000</td>\n",
       "      <td>A</td>\n",
       "      <td>172113416541</td>\n",
       "      <td>12558451099</td>\n",
       "      <td>+47.4073238</td>\n",
       "      <td>-120.5757999</td>\n",
       "      <td>POLYGON ((-123.247919 48.284558, -123.247794 4...</td>\n",
       "    </tr>\n",
       "    <tr>\n",
       "      <td>20</td>\n",
       "      <td>3</td>\n",
       "      <td>7</td>\n",
       "      <td>22</td>\n",
       "      <td>01629543</td>\n",
       "      <td>22</td>\n",
       "      <td>LA</td>\n",
       "      <td>Louisiana</td>\n",
       "      <td>00</td>\n",
       "      <td>G4000</td>\n",
       "      <td>A</td>\n",
       "      <td>111904912452</td>\n",
       "      <td>23746303848</td>\n",
       "      <td>+30.8634368</td>\n",
       "      <td>-091.7987173</td>\n",
       "      <td>POLYGON ((-92.06910499999999 33.008163, -92.06...</td>\n",
       "    </tr>\n",
       "    <tr>\n",
       "      <td>21</td>\n",
       "      <td>3</td>\n",
       "      <td>5</td>\n",
       "      <td>13</td>\n",
       "      <td>01705317</td>\n",
       "      <td>13</td>\n",
       "      <td>GA</td>\n",
       "      <td>Georgia</td>\n",
       "      <td>00</td>\n",
       "      <td>G4000</td>\n",
       "      <td>A</td>\n",
       "      <td>149169848456</td>\n",
       "      <td>4741100880</td>\n",
       "      <td>+32.6295789</td>\n",
       "      <td>-083.4235109</td>\n",
       "      <td>POLYGON ((-85.38658099999999 33.901719, -85.38...</td>\n",
       "    </tr>\n",
       "    <tr>\n",
       "      <td>22</td>\n",
       "      <td>3</td>\n",
       "      <td>6</td>\n",
       "      <td>01</td>\n",
       "      <td>01779775</td>\n",
       "      <td>01</td>\n",
       "      <td>AL</td>\n",
       "      <td>Alabama</td>\n",
       "      <td>00</td>\n",
       "      <td>G4000</td>\n",
       "      <td>A</td>\n",
       "      <td>131173688951</td>\n",
       "      <td>4593686489</td>\n",
       "      <td>+32.7396323</td>\n",
       "      <td>-086.8434593</td>\n",
       "      <td>POLYGON ((-88.139988 34.581703, -88.1399689999...</td>\n",
       "    </tr>\n",
       "    <tr>\n",
       "      <td>23</td>\n",
       "      <td>4</td>\n",
       "      <td>8</td>\n",
       "      <td>49</td>\n",
       "      <td>01455989</td>\n",
       "      <td>49</td>\n",
       "      <td>UT</td>\n",
       "      <td>Utah</td>\n",
       "      <td>00</td>\n",
       "      <td>G4000</td>\n",
       "      <td>A</td>\n",
       "      <td>212885517115</td>\n",
       "      <td>6999529104</td>\n",
       "      <td>+39.3349925</td>\n",
       "      <td>-111.6563326</td>\n",
       "      <td>POLYGON ((-114.047026 39.906097, -114.04702 39...</td>\n",
       "    </tr>\n",
       "    <tr>\n",
       "      <td>24</td>\n",
       "      <td>2</td>\n",
       "      <td>3</td>\n",
       "      <td>39</td>\n",
       "      <td>01085497</td>\n",
       "      <td>39</td>\n",
       "      <td>OH</td>\n",
       "      <td>Ohio</td>\n",
       "      <td>00</td>\n",
       "      <td>G4000</td>\n",
       "      <td>A</td>\n",
       "      <td>105833122995</td>\n",
       "      <td>10264595056</td>\n",
       "      <td>+40.4149297</td>\n",
       "      <td>-082.7119975</td>\n",
       "      <td>POLYGON ((-84.803251 40.989394, -84.803242 40....</td>\n",
       "    </tr>\n",
       "    <tr>\n",
       "      <td>25</td>\n",
       "      <td>3</td>\n",
       "      <td>7</td>\n",
       "      <td>48</td>\n",
       "      <td>01779801</td>\n",
       "      <td>48</td>\n",
       "      <td>TX</td>\n",
       "      <td>Texas</td>\n",
       "      <td>00</td>\n",
       "      <td>G4000</td>\n",
       "      <td>A</td>\n",
       "      <td>676633459408</td>\n",
       "      <td>19025991684</td>\n",
       "      <td>+31.4347032</td>\n",
       "      <td>-099.2818238</td>\n",
       "      <td>POLYGON ((-103.980179 32.000125, -103.979937 3...</td>\n",
       "    </tr>\n",
       "    <tr>\n",
       "      <td>26</td>\n",
       "      <td>4</td>\n",
       "      <td>8</td>\n",
       "      <td>08</td>\n",
       "      <td>01779779</td>\n",
       "      <td>08</td>\n",
       "      <td>CO</td>\n",
       "      <td>Colorado</td>\n",
       "      <td>00</td>\n",
       "      <td>G4000</td>\n",
       "      <td>A</td>\n",
       "      <td>268429343790</td>\n",
       "      <td>1175112870</td>\n",
       "      <td>+38.9938482</td>\n",
       "      <td>-105.5083165</td>\n",
       "      <td>POLYGON ((-109.050949 40.22264699999999, -109....</td>\n",
       "    </tr>\n",
       "    <tr>\n",
       "      <td>27</td>\n",
       "      <td>3</td>\n",
       "      <td>5</td>\n",
       "      <td>45</td>\n",
       "      <td>01779799</td>\n",
       "      <td>45</td>\n",
       "      <td>SC</td>\n",
       "      <td>South Carolina</td>\n",
       "      <td>00</td>\n",
       "      <td>G4000</td>\n",
       "      <td>A</td>\n",
       "      <td>77861720871</td>\n",
       "      <td>5070943755</td>\n",
       "      <td>+33.8741769</td>\n",
       "      <td>-080.8542699</td>\n",
       "      <td>POLYGON ((-82.741007 34.208862, -82.7411729999...</td>\n",
       "    </tr>\n",
       "    <tr>\n",
       "      <td>28</td>\n",
       "      <td>3</td>\n",
       "      <td>7</td>\n",
       "      <td>40</td>\n",
       "      <td>01102857</td>\n",
       "      <td>40</td>\n",
       "      <td>OK</td>\n",
       "      <td>Oklahoma</td>\n",
       "      <td>00</td>\n",
       "      <td>G4000</td>\n",
       "      <td>A</td>\n",
       "      <td>177663722167</td>\n",
       "      <td>3373836066</td>\n",
       "      <td>+35.5900512</td>\n",
       "      <td>-097.4868149</td>\n",
       "      <td>POLYGON ((-100.003762 36.499849, -100.00397 36...</td>\n",
       "    </tr>\n",
       "    <tr>\n",
       "      <td>29</td>\n",
       "      <td>3</td>\n",
       "      <td>6</td>\n",
       "      <td>47</td>\n",
       "      <td>01325873</td>\n",
       "      <td>47</td>\n",
       "      <td>TN</td>\n",
       "      <td>Tennessee</td>\n",
       "      <td>00</td>\n",
       "      <td>G4000</td>\n",
       "      <td>A</td>\n",
       "      <td>106797662267</td>\n",
       "      <td>2355188876</td>\n",
       "      <td>+35.8585639</td>\n",
       "      <td>-086.3493573</td>\n",
       "      <td>POLYGON ((-82.222064 36.15696, -82.222145 36.1...</td>\n",
       "    </tr>\n",
       "    <tr>\n",
       "      <td>30</td>\n",
       "      <td>4</td>\n",
       "      <td>8</td>\n",
       "      <td>56</td>\n",
       "      <td>01779807</td>\n",
       "      <td>56</td>\n",
       "      <td>WY</td>\n",
       "      <td>Wyoming</td>\n",
       "      <td>00</td>\n",
       "      <td>G4000</td>\n",
       "      <td>A</td>\n",
       "      <td>251464935120</td>\n",
       "      <td>1861273298</td>\n",
       "      <td>+42.9918024</td>\n",
       "      <td>-107.5419255</td>\n",
       "      <td>POLYGON ((-111.044893 43.315719, -111.044941 4...</td>\n",
       "    </tr>\n",
       "    <tr>\n",
       "      <td>31</td>\n",
       "      <td>4</td>\n",
       "      <td>9</td>\n",
       "      <td>15</td>\n",
       "      <td>01779782</td>\n",
       "      <td>15</td>\n",
       "      <td>HI</td>\n",
       "      <td>Hawaii</td>\n",
       "      <td>00</td>\n",
       "      <td>G4000</td>\n",
       "      <td>A</td>\n",
       "      <td>16634100855</td>\n",
       "      <td>11777698394</td>\n",
       "      <td>+19.8281671</td>\n",
       "      <td>-155.4950421</td>\n",
       "      <td>(POLYGON ((-166.382901 23.829657, -166.384476 ...</td>\n",
       "    </tr>\n",
       "    <tr>\n",
       "      <td>32</td>\n",
       "      <td>2</td>\n",
       "      <td>4</td>\n",
       "      <td>38</td>\n",
       "      <td>01779797</td>\n",
       "      <td>38</td>\n",
       "      <td>ND</td>\n",
       "      <td>North Dakota</td>\n",
       "      <td>00</td>\n",
       "      <td>G4000</td>\n",
       "      <td>A</td>\n",
       "      <td>178711813026</td>\n",
       "      <td>4399093501</td>\n",
       "      <td>+47.4421698</td>\n",
       "      <td>-100.4608163</td>\n",
       "      <td>POLYGON ((-104.045371 47.33012799999999, -104....</td>\n",
       "    </tr>\n",
       "    <tr>\n",
       "      <td>33</td>\n",
       "      <td>3</td>\n",
       "      <td>6</td>\n",
       "      <td>21</td>\n",
       "      <td>01779786</td>\n",
       "      <td>21</td>\n",
       "      <td>KY</td>\n",
       "      <td>Kentucky</td>\n",
       "      <td>00</td>\n",
       "      <td>G4000</td>\n",
       "      <td>A</td>\n",
       "      <td>102266279759</td>\n",
       "      <td>2388770991</td>\n",
       "      <td>+37.5336844</td>\n",
       "      <td>-085.2929801</td>\n",
       "      <td>(POLYGON ((-89.57102499999999 36.550201, -89.5...</td>\n",
       "    </tr>\n",
       "    <tr>\n",
       "      <td>34</td>\n",
       "      <td>9</td>\n",
       "      <td>0</td>\n",
       "      <td>78</td>\n",
       "      <td>01802710</td>\n",
       "      <td>78</td>\n",
       "      <td>VI</td>\n",
       "      <td>United States Virgin Islands</td>\n",
       "      <td>00</td>\n",
       "      <td>G4000</td>\n",
       "      <td>A</td>\n",
       "      <td>348013113</td>\n",
       "      <td>1550244955</td>\n",
       "      <td>+18.3267484</td>\n",
       "      <td>-064.9712504</td>\n",
       "      <td>(POLYGON ((-64.949714 17.653274, -64.953181 17...</td>\n",
       "    </tr>\n",
       "    <tr>\n",
       "      <td>35</td>\n",
       "      <td>9</td>\n",
       "      <td>0</td>\n",
       "      <td>69</td>\n",
       "      <td>01779809</td>\n",
       "      <td>69</td>\n",
       "      <td>MP</td>\n",
       "      <td>Commonwealth of the Northern Mariana Islands</td>\n",
       "      <td>00</td>\n",
       "      <td>G4000</td>\n",
       "      <td>A</td>\n",
       "      <td>472276664</td>\n",
       "      <td>4644268325</td>\n",
       "      <td>+14.9367835</td>\n",
       "      <td>+145.6010210</td>\n",
       "      <td>(POLYGON ((145.575072 16.305815, 145.560084 16...</td>\n",
       "    </tr>\n",
       "    <tr>\n",
       "      <td>36</td>\n",
       "      <td>9</td>\n",
       "      <td>0</td>\n",
       "      <td>66</td>\n",
       "      <td>01802705</td>\n",
       "      <td>66</td>\n",
       "      <td>GU</td>\n",
       "      <td>Guam</td>\n",
       "      <td>00</td>\n",
       "      <td>G4000</td>\n",
       "      <td>A</td>\n",
       "      <td>543558310</td>\n",
       "      <td>934334983</td>\n",
       "      <td>+13.4382886</td>\n",
       "      <td>+144.7729493</td>\n",
       "      <td>POLYGON ((144.564621 13.435155, 144.564474 13....</td>\n",
       "    </tr>\n",
       "    <tr>\n",
       "      <td>37</td>\n",
       "      <td>1</td>\n",
       "      <td>1</td>\n",
       "      <td>23</td>\n",
       "      <td>01779787</td>\n",
       "      <td>23</td>\n",
       "      <td>ME</td>\n",
       "      <td>Maine</td>\n",
       "      <td>00</td>\n",
       "      <td>G4000</td>\n",
       "      <td>A</td>\n",
       "      <td>79885221885</td>\n",
       "      <td>11748755195</td>\n",
       "      <td>+45.4092789</td>\n",
       "      <td>-068.6665979</td>\n",
       "      <td>POLYGON ((-70.98912199999999 43.792113, -70.98...</td>\n",
       "    </tr>\n",
       "    <tr>\n",
       "      <td>38</td>\n",
       "      <td>1</td>\n",
       "      <td>2</td>\n",
       "      <td>36</td>\n",
       "      <td>01779796</td>\n",
       "      <td>36</td>\n",
       "      <td>NY</td>\n",
       "      <td>New York</td>\n",
       "      <td>00</td>\n",
       "      <td>G4000</td>\n",
       "      <td>A</td>\n",
       "      <td>122053048985</td>\n",
       "      <td>19243095591</td>\n",
       "      <td>+42.9133974</td>\n",
       "      <td>-075.5962723</td>\n",
       "      <td>(POLYGON ((-74.04657 40.689639, -74.046751 40....</td>\n",
       "    </tr>\n",
       "    <tr>\n",
       "      <td>39</td>\n",
       "      <td>4</td>\n",
       "      <td>8</td>\n",
       "      <td>32</td>\n",
       "      <td>01779793</td>\n",
       "      <td>32</td>\n",
       "      <td>NV</td>\n",
       "      <td>Nevada</td>\n",
       "      <td>00</td>\n",
       "      <td>G4000</td>\n",
       "      <td>A</td>\n",
       "      <td>284329326845</td>\n",
       "      <td>2047350887</td>\n",
       "      <td>+39.3310928</td>\n",
       "      <td>-116.6151469</td>\n",
       "      <td>POLYGON ((-119.324184 41.993923, -119.323622 4...</td>\n",
       "    </tr>\n",
       "    <tr>\n",
       "      <td>40</td>\n",
       "      <td>4</td>\n",
       "      <td>9</td>\n",
       "      <td>02</td>\n",
       "      <td>01785533</td>\n",
       "      <td>02</td>\n",
       "      <td>AK</td>\n",
       "      <td>Alaska</td>\n",
       "      <td>00</td>\n",
       "      <td>G4000</td>\n",
       "      <td>A</td>\n",
       "      <td>1477946266785</td>\n",
       "      <td>245390495931</td>\n",
       "      <td>+63.3461909</td>\n",
       "      <td>-152.8370690</td>\n",
       "      <td>(POLYGON ((172.35392 52.894994, 172.347846 52....</td>\n",
       "    </tr>\n",
       "    <tr>\n",
       "      <td>41</td>\n",
       "      <td>9</td>\n",
       "      <td>0</td>\n",
       "      <td>60</td>\n",
       "      <td>01802701</td>\n",
       "      <td>60</td>\n",
       "      <td>AS</td>\n",
       "      <td>American Samoa</td>\n",
       "      <td>00</td>\n",
       "      <td>G4000</td>\n",
       "      <td>A</td>\n",
       "      <td>197759069</td>\n",
       "      <td>1307243753</td>\n",
       "      <td>-14.2668475</td>\n",
       "      <td>-170.6671854</td>\n",
       "      <td>(POLYGON ((-171.141181 -11.046608, -171.141162...</td>\n",
       "    </tr>\n",
       "    <tr>\n",
       "      <td>42</td>\n",
       "      <td>2</td>\n",
       "      <td>3</td>\n",
       "      <td>26</td>\n",
       "      <td>01779789</td>\n",
       "      <td>26</td>\n",
       "      <td>MI</td>\n",
       "      <td>Michigan</td>\n",
       "      <td>00</td>\n",
       "      <td>G4000</td>\n",
       "      <td>A</td>\n",
       "      <td>146455251245</td>\n",
       "      <td>104031574060</td>\n",
       "      <td>+44.8441757</td>\n",
       "      <td>-085.6604930</td>\n",
       "      <td>POLYGON ((-86.46411999999999 45.32481, -86.464...</td>\n",
       "    </tr>\n",
       "    <tr>\n",
       "      <td>43</td>\n",
       "      <td>3</td>\n",
       "      <td>7</td>\n",
       "      <td>05</td>\n",
       "      <td>00068085</td>\n",
       "      <td>05</td>\n",
       "      <td>AR</td>\n",
       "      <td>Arkansas</td>\n",
       "      <td>00</td>\n",
       "      <td>G4000</td>\n",
       "      <td>A</td>\n",
       "      <td>134771517596</td>\n",
       "      <td>2960191698</td>\n",
       "      <td>+34.8955256</td>\n",
       "      <td>-092.4446262</td>\n",
       "      <td>POLYGON ((-94.55217999999999 36.102236, -94.55...</td>\n",
       "    </tr>\n",
       "    <tr>\n",
       "      <td>44</td>\n",
       "      <td>3</td>\n",
       "      <td>6</td>\n",
       "      <td>28</td>\n",
       "      <td>01779790</td>\n",
       "      <td>28</td>\n",
       "      <td>MS</td>\n",
       "      <td>Mississippi</td>\n",
       "      <td>00</td>\n",
       "      <td>G4000</td>\n",
       "      <td>A</td>\n",
       "      <td>121529933533</td>\n",
       "      <td>3930505829</td>\n",
       "      <td>+32.6864714</td>\n",
       "      <td>-089.6561377</td>\n",
       "      <td>POLYGON ((-90.955974 34.120125, -90.9572319999...</td>\n",
       "    </tr>\n",
       "    <tr>\n",
       "      <td>45</td>\n",
       "      <td>2</td>\n",
       "      <td>4</td>\n",
       "      <td>29</td>\n",
       "      <td>01779791</td>\n",
       "      <td>29</td>\n",
       "      <td>MO</td>\n",
       "      <td>Missouri</td>\n",
       "      <td>00</td>\n",
       "      <td>G4000</td>\n",
       "      <td>A</td>\n",
       "      <td>178052653610</td>\n",
       "      <td>2487575477</td>\n",
       "      <td>+38.3507500</td>\n",
       "      <td>-092.4567826</td>\n",
       "      <td>POLYGON ((-94.60803299999999 38.847207, -94.60...</td>\n",
       "    </tr>\n",
       "    <tr>\n",
       "      <td>46</td>\n",
       "      <td>4</td>\n",
       "      <td>8</td>\n",
       "      <td>30</td>\n",
       "      <td>00767982</td>\n",
       "      <td>30</td>\n",
       "      <td>MT</td>\n",
       "      <td>Montana</td>\n",
       "      <td>00</td>\n",
       "      <td>G4000</td>\n",
       "      <td>A</td>\n",
       "      <td>376964956503</td>\n",
       "      <td>3866986696</td>\n",
       "      <td>+47.0511771</td>\n",
       "      <td>-109.6348174</td>\n",
       "      <td>POLYGON ((-115.629488 47.47961, -115.629825 47...</td>\n",
       "    </tr>\n",
       "    <tr>\n",
       "      <td>47</td>\n",
       "      <td>2</td>\n",
       "      <td>4</td>\n",
       "      <td>20</td>\n",
       "      <td>00481813</td>\n",
       "      <td>20</td>\n",
       "      <td>KS</td>\n",
       "      <td>Kansas</td>\n",
       "      <td>00</td>\n",
       "      <td>G4000</td>\n",
       "      <td>A</td>\n",
       "      <td>211753253104</td>\n",
       "      <td>1346235678</td>\n",
       "      <td>+38.4985464</td>\n",
       "      <td>-098.3834298</td>\n",
       "      <td>POLYGON ((-102.045212 38.697567, -102.04521 38...</td>\n",
       "    </tr>\n",
       "    <tr>\n",
       "      <td>48</td>\n",
       "      <td>2</td>\n",
       "      <td>3</td>\n",
       "      <td>18</td>\n",
       "      <td>00448508</td>\n",
       "      <td>18</td>\n",
       "      <td>IN</td>\n",
       "      <td>Indiana</td>\n",
       "      <td>00</td>\n",
       "      <td>G4000</td>\n",
       "      <td>A</td>\n",
       "      <td>92790545247</td>\n",
       "      <td>1536767065</td>\n",
       "      <td>+39.9030256</td>\n",
       "      <td>-086.2839503</td>\n",
       "      <td>POLYGON ((-87.526589 40.476876, -87.5265819999...</td>\n",
       "    </tr>\n",
       "    <tr>\n",
       "      <td>49</td>\n",
       "      <td>9</td>\n",
       "      <td>0</td>\n",
       "      <td>72</td>\n",
       "      <td>01779808</td>\n",
       "      <td>72</td>\n",
       "      <td>PR</td>\n",
       "      <td>Puerto Rico</td>\n",
       "      <td>00</td>\n",
       "      <td>G4000</td>\n",
       "      <td>A</td>\n",
       "      <td>8868100460</td>\n",
       "      <td>4923178155</td>\n",
       "      <td>+18.2176480</td>\n",
       "      <td>-066.4107992</td>\n",
       "      <td>(POLYGON ((-67.99668 18.135072, -67.997916 18....</td>\n",
       "    </tr>\n",
       "    <tr>\n",
       "      <td>50</td>\n",
       "      <td>2</td>\n",
       "      <td>4</td>\n",
       "      <td>46</td>\n",
       "      <td>01785534</td>\n",
       "      <td>46</td>\n",
       "      <td>SD</td>\n",
       "      <td>South Dakota</td>\n",
       "      <td>00</td>\n",
       "      <td>G4000</td>\n",
       "      <td>A</td>\n",
       "      <td>196348407642</td>\n",
       "      <td>3380782733</td>\n",
       "      <td>+44.4467957</td>\n",
       "      <td>-100.2381762</td>\n",
       "      <td>POLYGON ((-100.499371 45.943653, -100.481922 4...</td>\n",
       "    </tr>\n",
       "    <tr>\n",
       "      <td>51</td>\n",
       "      <td>1</td>\n",
       "      <td>1</td>\n",
       "      <td>25</td>\n",
       "      <td>00606926</td>\n",
       "      <td>25</td>\n",
       "      <td>MA</td>\n",
       "      <td>Massachusetts</td>\n",
       "      <td>00</td>\n",
       "      <td>G4000</td>\n",
       "      <td>A</td>\n",
       "      <td>20204442852</td>\n",
       "      <td>7130620748</td>\n",
       "      <td>+42.1565196</td>\n",
       "      <td>-071.4895915</td>\n",
       "      <td>POLYGON ((-71.49825899999999 42.017272, -71.49...</td>\n",
       "    </tr>\n",
       "    <tr>\n",
       "      <td>52</td>\n",
       "      <td>3</td>\n",
       "      <td>5</td>\n",
       "      <td>51</td>\n",
       "      <td>01779803</td>\n",
       "      <td>51</td>\n",
       "      <td>VA</td>\n",
       "      <td>Virginia</td>\n",
       "      <td>00</td>\n",
       "      <td>G4000</td>\n",
       "      <td>A</td>\n",
       "      <td>102257320053</td>\n",
       "      <td>8528605825</td>\n",
       "      <td>+37.5222512</td>\n",
       "      <td>-078.6681938</td>\n",
       "      <td>POLYGON ((-78.869276 38.762991, -78.868971 38....</td>\n",
       "    </tr>\n",
       "    <tr>\n",
       "      <td>53</td>\n",
       "      <td>3</td>\n",
       "      <td>5</td>\n",
       "      <td>11</td>\n",
       "      <td>01702382</td>\n",
       "      <td>11</td>\n",
       "      <td>DC</td>\n",
       "      <td>District of Columbia</td>\n",
       "      <td>00</td>\n",
       "      <td>G4000</td>\n",
       "      <td>A</td>\n",
       "      <td>158364992</td>\n",
       "      <td>18633403</td>\n",
       "      <td>+38.9041031</td>\n",
       "      <td>-077.0172290</td>\n",
       "      <td>POLYGON ((-77.11975099999999 38.93434999999999...</td>\n",
       "    </tr>\n",
       "    <tr>\n",
       "      <td>54</td>\n",
       "      <td>2</td>\n",
       "      <td>4</td>\n",
       "      <td>19</td>\n",
       "      <td>01779785</td>\n",
       "      <td>19</td>\n",
       "      <td>IA</td>\n",
       "      <td>Iowa</td>\n",
       "      <td>00</td>\n",
       "      <td>G4000</td>\n",
       "      <td>A</td>\n",
       "      <td>144667643793</td>\n",
       "      <td>1077808017</td>\n",
       "      <td>+42.0700243</td>\n",
       "      <td>-093.4933473</td>\n",
       "      <td>POLYGON ((-96.49877599999999 42.561043, -96.48...</td>\n",
       "    </tr>\n",
       "    <tr>\n",
       "      <td>55</td>\n",
       "      <td>4</td>\n",
       "      <td>8</td>\n",
       "      <td>04</td>\n",
       "      <td>01779777</td>\n",
       "      <td>04</td>\n",
       "      <td>AZ</td>\n",
       "      <td>Arizona</td>\n",
       "      <td>00</td>\n",
       "      <td>G4000</td>\n",
       "      <td>A</td>\n",
       "      <td>294198560125</td>\n",
       "      <td>1027346486</td>\n",
       "      <td>+34.2039355</td>\n",
       "      <td>-111.6063565</td>\n",
       "      <td>POLYGON ((-114.516454 33.027617, -114.516639 3...</td>\n",
       "    </tr>\n",
       "  </tbody>\n",
       "</table>\n",
       "</div>"
      ],
      "text/plain": [
       "   REGION DIVISION STATEFP   STATENS GEOID STUSPS  \\\n",
       "0       3        5      54  01779805    54     WV   \n",
       "1       3        5      12  00294478    12     FL   \n",
       "2       2        3      17  01779784    17     IL   \n",
       "3       2        4      27  00662849    27     MN   \n",
       "4       3        5      24  01714934    24     MD   \n",
       "5       1        1      44  01219835    44     RI   \n",
       "6       4        8      16  01779783    16     ID   \n",
       "7       1        1      33  01779794    33     NH   \n",
       "8       3        5      37  01027616    37     NC   \n",
       "9       1        1      50  01779802    50     VT   \n",
       "10      1        1      09  01779780    09     CT   \n",
       "11      3        5      10  01779781    10     DE   \n",
       "12      4        8      35  00897535    35     NM   \n",
       "13      4        9      06  01779778    06     CA   \n",
       "14      1        2      34  01779795    34     NJ   \n",
       "15      2        3      55  01779806    55     WI   \n",
       "16      4        9      41  01155107    41     OR   \n",
       "17      2        4      31  01779792    31     NE   \n",
       "18      1        2      42  01779798    42     PA   \n",
       "19      4        9      53  01779804    53     WA   \n",
       "20      3        7      22  01629543    22     LA   \n",
       "21      3        5      13  01705317    13     GA   \n",
       "22      3        6      01  01779775    01     AL   \n",
       "23      4        8      49  01455989    49     UT   \n",
       "24      2        3      39  01085497    39     OH   \n",
       "25      3        7      48  01779801    48     TX   \n",
       "26      4        8      08  01779779    08     CO   \n",
       "27      3        5      45  01779799    45     SC   \n",
       "28      3        7      40  01102857    40     OK   \n",
       "29      3        6      47  01325873    47     TN   \n",
       "30      4        8      56  01779807    56     WY   \n",
       "31      4        9      15  01779782    15     HI   \n",
       "32      2        4      38  01779797    38     ND   \n",
       "33      3        6      21  01779786    21     KY   \n",
       "34      9        0      78  01802710    78     VI   \n",
       "35      9        0      69  01779809    69     MP   \n",
       "36      9        0      66  01802705    66     GU   \n",
       "37      1        1      23  01779787    23     ME   \n",
       "38      1        2      36  01779796    36     NY   \n",
       "39      4        8      32  01779793    32     NV   \n",
       "40      4        9      02  01785533    02     AK   \n",
       "41      9        0      60  01802701    60     AS   \n",
       "42      2        3      26  01779789    26     MI   \n",
       "43      3        7      05  00068085    05     AR   \n",
       "44      3        6      28  01779790    28     MS   \n",
       "45      2        4      29  01779791    29     MO   \n",
       "46      4        8      30  00767982    30     MT   \n",
       "47      2        4      20  00481813    20     KS   \n",
       "48      2        3      18  00448508    18     IN   \n",
       "49      9        0      72  01779808    72     PR   \n",
       "50      2        4      46  01785534    46     SD   \n",
       "51      1        1      25  00606926    25     MA   \n",
       "52      3        5      51  01779803    51     VA   \n",
       "53      3        5      11  01702382    11     DC   \n",
       "54      2        4      19  01779785    19     IA   \n",
       "55      4        8      04  01779777    04     AZ   \n",
       "\n",
       "                                            NAME LSAD  MTFCC FUNCSTAT  \\\n",
       "0                                  West Virginia   00  G4000        A   \n",
       "1                                        Florida   00  G4000        A   \n",
       "2                                       Illinois   00  G4000        A   \n",
       "3                                      Minnesota   00  G4000        A   \n",
       "4                                       Maryland   00  G4000        A   \n",
       "5                                   Rhode Island   00  G4000        A   \n",
       "6                                          Idaho   00  G4000        A   \n",
       "7                                  New Hampshire   00  G4000        A   \n",
       "8                                 North Carolina   00  G4000        A   \n",
       "9                                        Vermont   00  G4000        A   \n",
       "10                                   Connecticut   00  G4000        A   \n",
       "11                                      Delaware   00  G4000        A   \n",
       "12                                    New Mexico   00  G4000        A   \n",
       "13                                    California   00  G4000        A   \n",
       "14                                    New Jersey   00  G4000        A   \n",
       "15                                     Wisconsin   00  G4000        A   \n",
       "16                                        Oregon   00  G4000        A   \n",
       "17                                      Nebraska   00  G4000        A   \n",
       "18                                  Pennsylvania   00  G4000        A   \n",
       "19                                    Washington   00  G4000        A   \n",
       "20                                     Louisiana   00  G4000        A   \n",
       "21                                       Georgia   00  G4000        A   \n",
       "22                                       Alabama   00  G4000        A   \n",
       "23                                          Utah   00  G4000        A   \n",
       "24                                          Ohio   00  G4000        A   \n",
       "25                                         Texas   00  G4000        A   \n",
       "26                                      Colorado   00  G4000        A   \n",
       "27                                South Carolina   00  G4000        A   \n",
       "28                                      Oklahoma   00  G4000        A   \n",
       "29                                     Tennessee   00  G4000        A   \n",
       "30                                       Wyoming   00  G4000        A   \n",
       "31                                        Hawaii   00  G4000        A   \n",
       "32                                  North Dakota   00  G4000        A   \n",
       "33                                      Kentucky   00  G4000        A   \n",
       "34                  United States Virgin Islands   00  G4000        A   \n",
       "35  Commonwealth of the Northern Mariana Islands   00  G4000        A   \n",
       "36                                          Guam   00  G4000        A   \n",
       "37                                         Maine   00  G4000        A   \n",
       "38                                      New York   00  G4000        A   \n",
       "39                                        Nevada   00  G4000        A   \n",
       "40                                        Alaska   00  G4000        A   \n",
       "41                                American Samoa   00  G4000        A   \n",
       "42                                      Michigan   00  G4000        A   \n",
       "43                                      Arkansas   00  G4000        A   \n",
       "44                                   Mississippi   00  G4000        A   \n",
       "45                                      Missouri   00  G4000        A   \n",
       "46                                       Montana   00  G4000        A   \n",
       "47                                        Kansas   00  G4000        A   \n",
       "48                                       Indiana   00  G4000        A   \n",
       "49                                   Puerto Rico   00  G4000        A   \n",
       "50                                  South Dakota   00  G4000        A   \n",
       "51                                 Massachusetts   00  G4000        A   \n",
       "52                                      Virginia   00  G4000        A   \n",
       "53                          District of Columbia   00  G4000        A   \n",
       "54                                          Iowa   00  G4000        A   \n",
       "55                                       Arizona   00  G4000        A   \n",
       "\n",
       "            ALAND        AWATER     INTPTLAT      INTPTLON  \\\n",
       "0     62265597146     489902816  +38.6472854  -080.6183274   \n",
       "1    138924199212   31386038155  +28.4574302  -082.4091478   \n",
       "2    143788697679    6206693598  +40.1028754  -089.1526108   \n",
       "3    206232257655   18929176411  +46.3158148  -094.1996628   \n",
       "4     25147754905    6983312282  +38.9466584  -076.6744939   \n",
       "5      2677898725    1323551636  +41.5974187  -071.5272723   \n",
       "6    214042908012    2398669593  +44.3484222  -114.5588538   \n",
       "7     23187396994    1028678842  +43.6726907  -071.5843145   \n",
       "8    125921301190   13470062955  +35.5397100  -079.1308636   \n",
       "9     23873467535    1031124865  +44.0604795  -072.6733274   \n",
       "10    12542638347    1815476291  +41.5797777  -072.7466665   \n",
       "11     5047194742    1398720828  +38.9985380  -075.4416616   \n",
       "12   314169362533     755722962  +34.4346843  -106.1316181   \n",
       "13   403501101370   20466718403  +37.1551773  -119.5434183   \n",
       "14    19050755048    3541927612  +40.1072744  -074.6652012   \n",
       "15   140273604537   29361386480  +44.6309071  -089.7093916   \n",
       "16   248604268242    6195105690  +43.9717125  -120.6229578   \n",
       "17   198972706218    1356290940  +41.5433014  -099.8118616   \n",
       "18   115882226263    3396805575  +40.9024957  -077.8334514   \n",
       "19   172113416541   12558451099  +47.4073238  -120.5757999   \n",
       "20   111904912452   23746303848  +30.8634368  -091.7987173   \n",
       "21   149169848456    4741100880  +32.6295789  -083.4235109   \n",
       "22   131173688951    4593686489  +32.7396323  -086.8434593   \n",
       "23   212885517115    6999529104  +39.3349925  -111.6563326   \n",
       "24   105833122995   10264595056  +40.4149297  -082.7119975   \n",
       "25   676633459408   19025991684  +31.4347032  -099.2818238   \n",
       "26   268429343790    1175112870  +38.9938482  -105.5083165   \n",
       "27    77861720871    5070943755  +33.8741769  -080.8542699   \n",
       "28   177663722167    3373836066  +35.5900512  -097.4868149   \n",
       "29   106797662267    2355188876  +35.8585639  -086.3493573   \n",
       "30   251464935120    1861273298  +42.9918024  -107.5419255   \n",
       "31    16634100855   11777698394  +19.8281671  -155.4950421   \n",
       "32   178711813026    4399093501  +47.4421698  -100.4608163   \n",
       "33   102266279759    2388770991  +37.5336844  -085.2929801   \n",
       "34      348013113    1550244955  +18.3267484  -064.9712504   \n",
       "35      472276664    4644268325  +14.9367835  +145.6010210   \n",
       "36      543558310     934334983  +13.4382886  +144.7729493   \n",
       "37    79885221885   11748755195  +45.4092789  -068.6665979   \n",
       "38   122053048985   19243095591  +42.9133974  -075.5962723   \n",
       "39   284329326845    2047350887  +39.3310928  -116.6151469   \n",
       "40  1477946266785  245390495931  +63.3461909  -152.8370690   \n",
       "41      197759069    1307243753  -14.2668475  -170.6671854   \n",
       "42   146455251245  104031574060  +44.8441757  -085.6604930   \n",
       "43   134771517596    2960191698  +34.8955256  -092.4446262   \n",
       "44   121529933533    3930505829  +32.6864714  -089.6561377   \n",
       "45   178052653610    2487575477  +38.3507500  -092.4567826   \n",
       "46   376964956503    3866986696  +47.0511771  -109.6348174   \n",
       "47   211753253104    1346235678  +38.4985464  -098.3834298   \n",
       "48    92790545247    1536767065  +39.9030256  -086.2839503   \n",
       "49     8868100460    4923178155  +18.2176480  -066.4107992   \n",
       "50   196348407642    3380782733  +44.4467957  -100.2381762   \n",
       "51    20204442852    7130620748  +42.1565196  -071.4895915   \n",
       "52   102257320053    8528605825  +37.5222512  -078.6681938   \n",
       "53      158364992      18633403  +38.9041031  -077.0172290   \n",
       "54   144667643793    1077808017  +42.0700243  -093.4933473   \n",
       "55   294198560125    1027346486  +34.2039355  -111.6063565   \n",
       "\n",
       "                                             geometry  \n",
       "0   POLYGON ((-81.747254 39.095379, -81.746354 39....  \n",
       "1   (POLYGON ((-82.986238 24.61065, -82.987477 24....  \n",
       "2   POLYGON ((-91.185295 40.637803, -91.1751 40.64...  \n",
       "3   POLYGON ((-96.784381 46.63050399999999, -96.78...  \n",
       "4   POLYGON ((-77.45880799999999 39.22027, -77.458...  \n",
       "5   (POLYGON ((-71.67264399999999 41.1342919999999...  \n",
       "6   POLYGON ((-116.899711 44.840609, -116.89967 44...  \n",
       "7   POLYGON ((-72.329899 43.600214, -72.329838 43....  \n",
       "8   POLYGON ((-82.416738 36.072827, -82.416601 36....  \n",
       "9   POLYGON ((-73.313283 44.26413, -73.312741 44.2...  \n",
       "10  POLYGON ((-73.51808 41.666723, -73.51807099999...  \n",
       "11  POLYGON ((-75.760074 39.296819, -75.7601009999...  \n",
       "12  POLYGON ((-106.006316 36.995267, -106.005314 3...  \n",
       "13  (POLYGON ((-119.634719 33.265442, -119.636302 ...  \n",
       "14  POLYGON ((-75.1896 40.591776, -75.189765999999...  \n",
       "15  POLYGON ((-92.887067 45.644148, -92.886712 45....  \n",
       "16  POLYGON ((-124.065448 45.783054, -124.062056 4...  \n",
       "17  POLYGON ((-104.052645 42.001718, -104.052634 4...  \n",
       "18  POLYGON ((-80.51935399999999 41.849563, -80.51...  \n",
       "19  POLYGON ((-123.247919 48.284558, -123.247794 4...  \n",
       "20  POLYGON ((-92.06910499999999 33.008163, -92.06...  \n",
       "21  POLYGON ((-85.38658099999999 33.901719, -85.38...  \n",
       "22  POLYGON ((-88.139988 34.581703, -88.1399689999...  \n",
       "23  POLYGON ((-114.047026 39.906097, -114.04702 39...  \n",
       "24  POLYGON ((-84.803251 40.989394, -84.803242 40....  \n",
       "25  POLYGON ((-103.980179 32.000125, -103.979937 3...  \n",
       "26  POLYGON ((-109.050949 40.22264699999999, -109....  \n",
       "27  POLYGON ((-82.741007 34.208862, -82.7411729999...  \n",
       "28  POLYGON ((-100.003762 36.499849, -100.00397 36...  \n",
       "29  POLYGON ((-82.222064 36.15696, -82.222145 36.1...  \n",
       "30  POLYGON ((-111.044893 43.315719, -111.044941 4...  \n",
       "31  (POLYGON ((-166.382901 23.829657, -166.384476 ...  \n",
       "32  POLYGON ((-104.045371 47.33012799999999, -104....  \n",
       "33  (POLYGON ((-89.57102499999999 36.550201, -89.5...  \n",
       "34  (POLYGON ((-64.949714 17.653274, -64.953181 17...  \n",
       "35  (POLYGON ((145.575072 16.305815, 145.560084 16...  \n",
       "36  POLYGON ((144.564621 13.435155, 144.564474 13....  \n",
       "37  POLYGON ((-70.98912199999999 43.792113, -70.98...  \n",
       "38  (POLYGON ((-74.04657 40.689639, -74.046751 40....  \n",
       "39  POLYGON ((-119.324184 41.993923, -119.323622 4...  \n",
       "40  (POLYGON ((172.35392 52.894994, 172.347846 52....  \n",
       "41  (POLYGON ((-171.141181 -11.046608, -171.141162...  \n",
       "42  POLYGON ((-86.46411999999999 45.32481, -86.464...  \n",
       "43  POLYGON ((-94.55217999999999 36.102236, -94.55...  \n",
       "44  POLYGON ((-90.955974 34.120125, -90.9572319999...  \n",
       "45  POLYGON ((-94.60803299999999 38.847207, -94.60...  \n",
       "46  POLYGON ((-115.629488 47.47961, -115.629825 47...  \n",
       "47  POLYGON ((-102.045212 38.697567, -102.04521 38...  \n",
       "48  POLYGON ((-87.526589 40.476876, -87.5265819999...  \n",
       "49  (POLYGON ((-67.99668 18.135072, -67.997916 18....  \n",
       "50  POLYGON ((-100.499371 45.943653, -100.481922 4...  \n",
       "51  POLYGON ((-71.49825899999999 42.017272, -71.49...  \n",
       "52  POLYGON ((-78.869276 38.762991, -78.868971 38....  \n",
       "53  POLYGON ((-77.11975099999999 38.93434999999999...  \n",
       "54  POLYGON ((-96.49877599999999 42.561043, -96.48...  \n",
       "55  POLYGON ((-114.516454 33.027617, -114.516639 3...  "
      ]
     },
     "execution_count": 10,
     "metadata": {},
     "output_type": "execute_result"
    }
   ],
   "source": [
    "states"
   ]
  },
  {
   "cell_type": "markdown",
   "metadata": {},
   "source": [
    "Even though it read a shapefile, the underlying `states` object is a data frame, just like the ones you've worked with previously.\n",
    "It supports all of the same Pandas operations you are already used to:"
   ]
  },
  {
   "cell_type": "code",
   "execution_count": null,
   "metadata": {},
   "outputs": [],
   "source": [
    "states.head()"
   ]
  },
  {
   "cell_type": "code",
   "execution_count": null,
   "metadata": {},
   "outputs": [],
   "source": [
    "states.info()"
   ]
  },
  {
   "cell_type": "markdown",
   "metadata": {},
   "source": [
    "(Quick aside: If you're curious _why_ string columns have type object, [here](https://stackoverflow.com/a/21020411/2477097) is a concise answer from Stack Overflow)."
   ]
  },
  {
   "cell_type": "markdown",
   "metadata": {},
   "source": [
    "# Pandas review: Working with columns"
   ]
  },
  {
   "cell_type": "markdown",
   "metadata": {},
   "source": [
    "### Selecting columns"
   ]
  },
  {
   "cell_type": "markdown",
   "metadata": {},
   "source": [
    "Pandas offers many ways to select individual columns.\n"
   ]
  },
  {
   "cell_type": "markdown",
   "metadata": {},
   "source": [
    "(1) Passing the column name as a string (note the quotes!)."
   ]
  },
  {
   "cell_type": "code",
   "execution_count": null,
   "metadata": {},
   "outputs": [],
   "source": [
    "states[\"NAME\"]"
   ]
  },
  {
   "cell_type": "markdown",
   "metadata": {},
   "source": [
    "(2) As an _attribute_ of the data frame object, via the `object.attribute` syntax"
   ]
  },
  {
   "cell_type": "code",
   "execution_count": null,
   "metadata": {},
   "outputs": [],
   "source": [
    "states.NAME"
   ]
  },
  {
   "cell_type": "markdown",
   "metadata": {},
   "source": [
    "---\n",
    "**EXERCISE**:\n",
    "Select the column that stores the state abbreviations.\n",
    "Do this twice --- once with each method."
   ]
  },
  {
   "cell_type": "code",
   "execution_count": null,
   "metadata": {},
   "outputs": [],
   "source": [
    "# Answer here..."
   ]
  },
  {
   "cell_type": "markdown",
   "metadata": {},
   "source": [
    "**QUESTION**:\n",
    "What are some advantages of method 1?\n",
    "What are some advantages of method 2?\n",
    "Which method do you prefer (right now) and why?"
   ]
  },
  {
   "cell_type": "markdown",
   "metadata": {},
   "source": [
    "{Answer here}"
   ]
  },
  {
   "cell_type": "markdown",
   "metadata": {},
   "source": [
    "---\n",
    "By replacing method 1's string with a `list`, you can select multiple columns by name."
   ]
  },
  {
   "cell_type": "code",
   "execution_count": null,
   "metadata": {},
   "outputs": [],
   "source": [
    "states[[\"NAME\", \"ALAND\"]]"
   ]
  },
  {
   "cell_type": "markdown",
   "metadata": {},
   "source": [
    "Recall that strings and lists, like all objects in Python, can be assigned to variables.\n",
    "So, the above could be achieved with code like the following (pay attention to which code is and is not quoted):"
   ]
  },
  {
   "cell_type": "code",
   "execution_count": null,
   "metadata": {},
   "outputs": [],
   "source": [
    "name_col = \"NAME\"\n",
    "states[name_col]"
   ]
  },
  {
   "cell_type": "code",
   "execution_count": null,
   "metadata": {},
   "outputs": [],
   "source": [
    "my_cols = [name_col, \"ALAND\", \"AWATER\"]\n",
    "print my_cols"
   ]
  },
  {
   "cell_type": "code",
   "execution_count": null,
   "metadata": {},
   "outputs": [],
   "source": [
    "states[my_cols]"
   ]
  },
  {
   "cell_type": "markdown",
   "metadata": {},
   "source": [
    "---\n",
    "**EXERCISE**:\n",
    "Use this syntax to create a table of state names and abbreviations."
   ]
  },
  {
   "cell_type": "code",
   "execution_count": null,
   "metadata": {},
   "outputs": [],
   "source": [
    "# Answer here"
   ]
  },
  {
   "cell_type": "markdown",
   "metadata": {},
   "source": [
    "### Creating new columns"
   ]
  },
  {
   "cell_type": "markdown",
   "metadata": {},
   "source": [
    "First, let's create a \"sandbox\" data frame that we can safely modify by using the `DataFrame.copy` method."
   ]
  },
  {
   "cell_type": "code",
   "execution_count": null,
   "metadata": {},
   "outputs": [],
   "source": [
    "states2 = states.copy()"
   ]
  },
  {
   "cell_type": "markdown",
   "metadata": {},
   "source": [
    "> WEEDS: The reason we can't just do something like `states2 = states` is that Pandas does a \"shallow copy\" by default, which means that rather than copying the entire `states` object, this just creates a new reference to the same object.\n",
    "> In other words, if we just did `states2 = states`, any changes we made to `states2` _would also apply to_ `states`, because both of those variables point to the same object in the computer's memory.\n",
    "> This is actually pretty useful for memory efficiency, but is a bit counterintuitive and counter to our immediate aims here---hence, `states2 = states.copy()`."
   ]
  },
  {
   "cell_type": "markdown",
   "metadata": {},
   "source": [
    "You can use similar syntax for selecting columns (Method 1) to create new ones."
   ]
  },
  {
   "cell_type": "code",
   "execution_count": null,
   "metadata": {},
   "outputs": [],
   "source": [
    "states2[\"dummy_column\"] = 42\n",
    "states2.info()"
   ]
  },
  {
   "cell_type": "markdown",
   "metadata": {},
   "source": [
    "However, note that you _cannot_ create new columns by using the `object.attribute` syntax.\n",
    "Confusingly, this *will not throw an error*, but will silently do nothing.*\n",
    "\n",
    "> \\* Technically, it creates a new attribute for the object that you will be able to access and do things with. But this is pretty non-standard practice, and if you're not careful, you could potentially accidentally overwrite important methods that prevent the data frame from working correctly. So I would avoid this. "
   ]
  },
  {
   "cell_type": "markdown",
   "metadata": {},
   "source": [
    "Note that although we passed only one value to the data frame, it was automatically \"recycled\" to every row."
   ]
  },
  {
   "cell_type": "code",
   "execution_count": null,
   "metadata": {
    "scrolled": true
   },
   "outputs": [],
   "source": [
    "states2[\"dummy_column\"].head()"
   ]
  },
  {
   "cell_type": "markdown",
   "metadata": {},
   "source": [
    "A common use case for creating new columns is doing math on existing columns.\n",
    "For example, let's convert the state land areas from square meters to hectares (1 ha = 100 m x 100 m = 10,000 m$^2$)."
   ]
  },
  {
   "cell_type": "code",
   "execution_count": null,
   "metadata": {},
   "outputs": [],
   "source": [
    "# Note the use of 10000.0, not just 10000, to avoid integer math\n",
    "states2[\"ALAND_ha\"] = states2[\"ALAND\"] / 10000.0\n",
    "states2[[\"NAME\", \"ALAND\", \"ALAND_ha\"]].head()"
   ]
  },
  {
   "cell_type": "markdown",
   "metadata": {},
   "source": [
    "(In case you haven't seen it before, `e+06` is scientific notation, i.e. `6.22e+06` means $6.22 \\times 10^6$)."
   ]
  },
  {
   "cell_type": "markdown",
   "metadata": {},
   "source": [
    "---\n",
    "**EXERCISE**:\n",
    "Create a column `TOTAL_AREA` that is the sum of land and water area for each state."
   ]
  },
  {
   "cell_type": "code",
   "execution_count": null,
   "metadata": {},
   "outputs": [],
   "source": [
    "# Answer here"
   ]
  },
  {
   "cell_type": "markdown",
   "metadata": {},
   "source": [
    "---\n",
    "Column assignment can also be used to modify existing columns in place.\n",
    "\n",
    "The `REGION` and `DIVISION` columns are stored as strings, but since they are all integers, let's convert them to make our lives easier."
   ]
  },
  {
   "cell_type": "code",
   "execution_count": null,
   "metadata": {},
   "outputs": [],
   "source": [
    "states2[[\"REGION\", \"DIVISION\"]].head()"
   ]
  },
  {
   "cell_type": "markdown",
   "metadata": {},
   "source": [
    "To convert columns to a different type, us the `astype()` method.\n",
    "\n",
    "One way to do this is for multiple columns is with a `for` loop:"
   ]
  },
  {
   "cell_type": "code",
   "execution_count": null,
   "metadata": {},
   "outputs": [],
   "source": [
    "int_cols = [\"REGION\", \"DIVISION\"]\n",
    "for col in int_cols:\n",
    "    states2[col] = states2[col].astype(int)\n",
    "states2.info()"
   ]
  },
  {
   "cell_type": "markdown",
   "metadata": {},
   "source": [
    "Fortunately, Pandas also allows this function to work on multiple columns in one go:"
   ]
  },
  {
   "cell_type": "code",
   "execution_count": null,
   "metadata": {},
   "outputs": [],
   "source": [
    "states2[int_cols] = states2[int_cols].astype(int)\n",
    "states2.info()"
   ]
  },
  {
   "cell_type": "markdown",
   "metadata": {},
   "source": [
    "**QUESTION**: The `STATEFP` and `STATEENS` columns are also digits that are stored as strings.\n",
    "Why might it be a good idea to keep them as strings?\n",
    "(HINT: Consider ZIP codes. Look up the ZIP code for Brookline, MA, and try to store it as an integer. What happens?) "
   ]
  },
  {
   "cell_type": "markdown",
   "metadata": {},
   "source": [
    "{Your answer here}"
   ]
  },
  {
   "cell_type": "markdown",
   "metadata": {},
   "source": [
    "**QUESTION**:\n",
    "Why might `float` be a better type for the `ALAND` and `AWATER` columns?"
   ]
  },
  {
   "cell_type": "markdown",
   "metadata": {},
   "source": [
    "{Your answer here}"
   ]
  },
  {
   "cell_type": "markdown",
   "metadata": {},
   "source": [
    "**EXERCISE**:\n",
    "Convert these two columns to `float`.\n",
    "Use the `info()` method to confirm that your code worked."
   ]
  },
  {
   "cell_type": "code",
   "execution_count": null,
   "metadata": {},
   "outputs": [],
   "source": [
    "# Your answer here"
   ]
  },
  {
   "cell_type": "markdown",
   "metadata": {},
   "source": [
    "**EXERCISE**:\n",
    "Create new columns `FRAC_LAND` and `FRAC_WATER` containing the area fractions of land and water, respectivly, for each state."
   ]
  },
  {
   "cell_type": "markdown",
   "metadata": {},
   "source": [
    "## Pandas review: Working with rows"
   ]
  },
  {
   "cell_type": "markdown",
   "metadata": {},
   "source": [
    "Somewhat confusingly, the `[]` operators in Pandas can be used to select rows, but _only_ if they are passed _slices_."
   ]
  },
  {
   "cell_type": "code",
   "execution_count": null,
   "metadata": {},
   "outputs": [],
   "source": [
    "states[0:4]"
   ]
  },
  {
   "cell_type": "markdown",
   "metadata": {},
   "source": [
    "Again, this _only_ works for _slices_ defined with the `start:end` syntax.\n",
    "The following will not work:"
   ]
  },
  {
   "cell_type": "code",
   "execution_count": null,
   "metadata": {},
   "outputs": [],
   "source": [
    "states[1]"
   ]
  },
  {
   "cell_type": "markdown",
   "metadata": {},
   "source": [
    "To select individual rows this way, you will have to be clever about creating slices containing only one number."
   ]
  },
  {
   "cell_type": "code",
   "execution_count": null,
   "metadata": {},
   "outputs": [],
   "source": [
    "states[3:4]"
   ]
  },
  {
   "cell_type": "markdown",
   "metadata": {},
   "source": [
    "To review, the `head(n)` and `tail(n)` methods can be used to select the first and last `n` rows of a data frame."
   ]
  },
  {
   "cell_type": "code",
   "execution_count": null,
   "metadata": {},
   "outputs": [],
   "source": [
    "states.head(3)"
   ]
  },
  {
   "cell_type": "code",
   "execution_count": null,
   "metadata": {},
   "outputs": [],
   "source": [
    "states.tail(4)"
   ]
  },
  {
   "cell_type": "markdown",
   "metadata": {},
   "source": [
    "A more useful way to select rows is based on values of specific columns.\n",
    "\n",
    "First, let's see how comparison operators (`==`, `>`, etc.) work on columns."
   ]
  },
  {
   "cell_type": "code",
   "execution_count": null,
   "metadata": {},
   "outputs": [],
   "source": [
    "states[\"NAME\"] == \"West Virginia\""
   ]
  },
  {
   "cell_type": "markdown",
   "metadata": {},
   "source": [
    "Note that this returns a `Series` (Pandas class for a column) of type `bool` (boolean), with value `True` where the condition is met (only in the first row) and `False` everywhere else.\n",
    "\n",
    "We can then use this series for subsetting."
   ]
  },
  {
   "cell_type": "code",
   "execution_count": null,
   "metadata": {},
   "outputs": [],
   "source": [
    "wv = states[\"NAME\"] == \"West Virginia\"\n",
    "states[wv]"
   ]
  },
  {
   "cell_type": "markdown",
   "metadata": {},
   "source": [
    "You can combine multiple conditions using the `&` (\"bitwise and\") or `|` (\"bitwise or\") operators (but, note that each statement has to be wrapped in parentheses, `()`)."
   ]
  },
  {
   "cell_type": "markdown",
   "metadata": {},
   "source": [
    "For example, this selects some really small states (area < $10^9 \\text{m}^2$)."
   ]
  },
  {
   "cell_type": "code",
   "execution_count": null,
   "metadata": {},
   "outputs": [],
   "source": [
    "states[states[\"ALAND\"] < 10e9]"
   ]
  },
  {
   "cell_type": "markdown",
   "metadata": {},
   "source": [
    "This selects really small states that are also in region 3 (again, pay attention to the parentheses)."
   ]
  },
  {
   "cell_type": "code",
   "execution_count": null,
   "metadata": {},
   "outputs": [],
   "source": [
    "states[(states[\"ALAND\"] < 10e9) & (states[\"REGION\"] == 3)]"
   ]
  },
  {
   "cell_type": "markdown",
   "metadata": {},
   "source": [
    "Meanwhile, this selects some really small states and some really large ones (area less than $10^9 \\text{m}^2$ or greater than $10^{12} \\text{m}^2$)."
   ]
  },
  {
   "cell_type": "code",
   "execution_count": null,
   "metadata": {},
   "outputs": [],
   "source": [
    "states[(states[\"ALAND\"] < 1e9) | (states[\"ALAND\"] > 1e12)]"
   ]
  },
  {
   "cell_type": "markdown",
   "metadata": {},
   "source": [
    "As you can see, \"bitwise\" here means that these operators will text the conditional statement element by element. For example:\n",
    "```\n",
    "(True True False) &\n",
    "(True False True)\n",
    "------------------\n",
    "(True False False)\n",
    "\n",
    "(True True False) |\n",
    "(True False True)\n",
    "------------------\n",
    "(True True True)\n",
    "```\n",
    "\n",
    "These should not be confused with the logical operators `and` and `or`, which always return a single `True` or `False` and are therefore more useful in `if-else` statements.\n",
    "For more information, see [this Stack Overflow post](https://stackoverflow.com/questions/22646463/and-boolean-vs-bitwise-why-difference-in-behavior-with-lists-vs-nump)."
   ]
  },
  {
   "cell_type": "markdown",
   "metadata": {},
   "source": [
    "Another useful operation is the `isin` method for selecting values that are members of a specific set."
   ]
  },
  {
   "cell_type": "code",
   "execution_count": null,
   "metadata": {},
   "outputs": [],
   "source": [
    "my_subset = [\"WV\", \"AK\", \"OK\"]\n",
    "states[states[\"STUSPS\"].isin(my_subset)]"
   ]
  },
  {
   "cell_type": "markdown",
   "metadata": {},
   "source": [
    "Finally, any of these conditions can be negated with the `~` (\"bitwise not\") operator.\n",
    "This \"flips\" every logical element to its opposite value.\n",
    "For example:\n",
    "\n",
    "```\n",
    "~(True True False) --> (False False True)\n",
    "```\n",
    "\n",
    "For example, the following code selects every state _except_ West Virginia and Florida."
   ]
  },
  {
   "cell_type": "code",
   "execution_count": null,
   "metadata": {},
   "outputs": [],
   "source": [
    "states[~(states.STUSPS.isin([\"WV\", \"FL\"]))]"
   ]
  },
  {
   "cell_type": "markdown",
   "metadata": {},
   "source": [
    "---\n",
    "**EXERCISE**:\n",
    "Select states whose land area is between $10^9$ and $10^{10}$ square meters."
   ]
  },
  {
   "cell_type": "code",
   "execution_count": null,
   "metadata": {},
   "outputs": [],
   "source": [
    "# Answer here"
   ]
  },
  {
   "cell_type": "markdown",
   "metadata": {},
   "source": [
    "**EXERCISE**:\n",
    "Select states in regions 1 and 2."
   ]
  },
  {
   "cell_type": "code",
   "execution_count": null,
   "metadata": {},
   "outputs": [],
   "source": [
    "# Answer"
   ]
  },
  {
   "cell_type": "markdown",
   "metadata": {},
   "source": [
    "**EXERCISE**: Select every state that is _not_ in region 9."
   ]
  },
  {
   "cell_type": "code",
   "execution_count": null,
   "metadata": {},
   "outputs": [],
   "source": [
    "# Answer"
   ]
  },
  {
   "cell_type": "markdown",
   "metadata": {},
   "source": [
    "---"
   ]
  },
  {
   "cell_type": "markdown",
   "metadata": {},
   "source": [
    "## Geopandas: Basics and simple maps"
   ]
  },
  {
   "cell_type": "markdown",
   "metadata": {},
   "source": [
    "Let's look more closely at the structure of the `states` `DataFrame`."
   ]
  },
  {
   "cell_type": "code",
   "execution_count": null,
   "metadata": {},
   "outputs": [],
   "source": [
    "states.info()"
   ]
  },
  {
   "cell_type": "markdown",
   "metadata": {},
   "source": [
    "Note that the last column is called `geometry` and has type `geometry`.\n",
    "This column stores the spatial information used by GIS software and analysis tools."
   ]
  },
  {
   "cell_type": "code",
   "execution_count": null,
   "metadata": {},
   "outputs": [],
   "source": [
    "states[\"geometry\"].head()"
   ]
  },
  {
   "cell_type": "markdown",
   "metadata": {},
   "source": [
    "We are dealing with vector data, so the geometry information consists of the vector type (e.g. Polygon, MultiPolygon, Line, Point) and its corresponding coordinate pairs."
   ]
  },
  {
   "cell_type": "markdown",
   "metadata": {},
   "source": [
    "Let's see what happens if we try to plot this."
   ]
  },
  {
   "cell_type": "code",
   "execution_count": null,
   "metadata": {},
   "outputs": [],
   "source": [
    "states.plot()"
   ]
  },
  {
   "cell_type": "markdown",
   "metadata": {},
   "source": [
    "It's not a very good one, but it's a map of the US states!\n",
    "\n",
    "Let's see if we can zoom in on a few states using the syntax we used earlier."
   ]
  },
  {
   "cell_type": "code",
   "execution_count": null,
   "metadata": {},
   "outputs": [],
   "source": [
    "states[states[\"NAME\"] == \"West Virginia\"].plot()"
   ]
  },
  {
   "cell_type": "markdown",
   "metadata": {},
   "source": [
    "---\n",
    "**EXERCISE**:\n",
    "Plot the states in region 1."
   ]
  },
  {
   "cell_type": "code",
   "execution_count": null,
   "metadata": {},
   "outputs": [],
   "source": [
    "# Answer here"
   ]
  },
  {
   "cell_type": "markdown",
   "metadata": {},
   "source": [
    "---"
   ]
  },
  {
   "cell_type": "markdown",
   "metadata": {},
   "source": [
    "### Thematic maps"
   ]
  },
  {
   "cell_type": "markdown",
   "metadata": {},
   "source": [
    "Geopandas makes it really easy to make thematic maps.\n",
    "Simply pass a column name to the `column` argument of `plot()`."
   ]
  },
  {
   "cell_type": "code",
   "execution_count": null,
   "metadata": {},
   "outputs": [],
   "source": [
    "states[states.REGION.isin([1,2])].plot(column = \"DIVISION\")"
   ]
  },
  {
   "cell_type": "markdown",
   "metadata": {},
   "source": [
    "For our current purposes, these crude, simple maps will suffice.\n",
    "You can find more information on adjusting map aesthetics in the [geopandas manual](http://geopandas.org/mapping.html)."
   ]
  },
  {
   "cell_type": "markdown",
   "metadata": {},
   "source": [
    "**EXERCISE**:\n",
    "Figure out which `REGION` Texas is in.\n",
    "Then, generate a map of that region with each state having its own color."
   ]
  },
  {
   "cell_type": "code",
   "execution_count": null,
   "metadata": {},
   "outputs": [],
   "source": [
    "# Answer here"
   ]
  },
  {
   "cell_type": "markdown",
   "metadata": {},
   "source": [
    "## Spatial joins"
   ]
  },
  {
   "cell_type": "markdown",
   "metadata": {},
   "source": [
    "Spatial joins combine information in two datasets based on their spatial relationships.\n",
    "A useful application for us is to combine our data on state boundaries with our data on congressional districts.\n",
    "\n",
    "First, let's read in the congressional district data."
   ]
  },
  {
   "cell_type": "code",
   "execution_count": 18,
   "metadata": {},
   "outputs": [
    {
     "name": "stdout",
     "output_type": "stream",
     "text": [
      "<class 'geopandas.geodataframe.GeoDataFrame'>\n",
      "RangeIndex: 444 entries, 0 to 443\n",
      "Data columns (total 13 columns):\n",
      "STATEFP     444 non-null object\n",
      "CD115FP     444 non-null object\n",
      "GEOID       444 non-null object\n",
      "NAMELSAD    444 non-null object\n",
      "LSAD        444 non-null object\n",
      "CDSESSN     444 non-null object\n",
      "MTFCC       444 non-null object\n",
      "FUNCSTAT    444 non-null object\n",
      "ALAND       444 non-null int64\n",
      "AWATER      444 non-null int64\n",
      "INTPTLAT    444 non-null object\n",
      "INTPTLON    444 non-null object\n",
      "geometry    444 non-null object\n",
      "dtypes: int64(2), object(11)\n",
      "memory usage: 45.2+ KB\n"
     ]
    }
   ],
   "source": [
    "cd116 = gpd.read_file(cdfile)\n",
    "cd116.info()"
   ]
  },
  {
   "cell_type": "code",
   "execution_count": 16,
   "metadata": {},
   "outputs": [
    {
     "data": {
      "text/html": [
       "<div>\n",
       "<style scoped>\n",
       "    .dataframe tbody tr th:only-of-type {\n",
       "        vertical-align: middle;\n",
       "    }\n",
       "\n",
       "    .dataframe tbody tr th {\n",
       "        vertical-align: top;\n",
       "    }\n",
       "\n",
       "    .dataframe thead th {\n",
       "        text-align: right;\n",
       "    }\n",
       "</style>\n",
       "<table border=\"1\" class=\"dataframe\">\n",
       "  <thead>\n",
       "    <tr style=\"text-align: right;\">\n",
       "      <th></th>\n",
       "      <th>NAMELSAD</th>\n",
       "      <th>geometry</th>\n",
       "    </tr>\n",
       "  </thead>\n",
       "  <tbody>\n",
       "    <tr>\n",
       "      <td>0</td>\n",
       "      <td>Congressional District (at Large)</td>\n",
       "      <td>(POLYGON ((179.388742 51.941917, 179.404562 51...</td>\n",
       "    </tr>\n",
       "    <tr>\n",
       "      <td>1</td>\n",
       "      <td>Congressional District (at Large)</td>\n",
       "      <td>POLYGON ((-75.789023 39.65979, -75.788922 39.6...</td>\n",
       "    </tr>\n",
       "    <tr>\n",
       "      <td>2</td>\n",
       "      <td>Congressional District (at Large)</td>\n",
       "      <td>POLYGON ((-116.049116 48.000828, -116.049118 4...</td>\n",
       "    </tr>\n",
       "    <tr>\n",
       "      <td>3</td>\n",
       "      <td>Congressional District (at Large)</td>\n",
       "      <td>POLYGON ((-104.048967 48.86953399999999, -104....</td>\n",
       "    </tr>\n",
       "    <tr>\n",
       "      <td>4</td>\n",
       "      <td>Congressional District (at Large)</td>\n",
       "      <td>POLYGON ((-104.057879 44.997605, -104.050783 4...</td>\n",
       "    </tr>\n",
       "  </tbody>\n",
       "</table>\n",
       "</div>"
      ],
      "text/plain": [
       "                            NAMELSAD  \\\n",
       "0  Congressional District (at Large)   \n",
       "1  Congressional District (at Large)   \n",
       "2  Congressional District (at Large)   \n",
       "3  Congressional District (at Large)   \n",
       "4  Congressional District (at Large)   \n",
       "\n",
       "                                            geometry  \n",
       "0  (POLYGON ((179.388742 51.941917, 179.404562 51...  \n",
       "1  POLYGON ((-75.789023 39.65979, -75.788922 39.6...  \n",
       "2  POLYGON ((-116.049116 48.000828, -116.049118 4...  \n",
       "3  POLYGON ((-104.048967 48.86953399999999, -104....  \n",
       "4  POLYGON ((-104.057879 44.997605, -104.050783 4...  "
      ]
     },
     "execution_count": 16,
     "metadata": {},
     "output_type": "execute_result"
    }
   ],
   "source": [
    "cd116[[\"NAMELSAD\", \"geometry\"]].head()"
   ]
  },
  {
   "cell_type": "code",
   "execution_count": null,
   "metadata": {},
   "outputs": [],
   "source": [
    "states[[\"NAME\", \"geometry\"]].head()"
   ]
  },
  {
   "cell_type": "markdown",
   "metadata": {},
   "source": [
    "To combine these two, we use the `geopandas.sjoin` method.\n",
    "This will take two geometries and the kind of spatial relationship by which they will be joined.\n",
    "In this case, we expect that congressional districts will be `\"within\"` their corresponding states, which means, formally, that one object's boundaries intersect the interior of the other object."
   ]
  },
  {
   "cell_type": "code",
   "execution_count": 19,
   "metadata": {},
   "outputs": [],
   "source": [
    "districts = gpd.sjoin(cd116, states, op = \"within\")"
   ]
  },
  {
   "cell_type": "markdown",
   "metadata": {},
   "source": [
    "Now, let's inspect the resulting object."
   ]
  },
  {
   "cell_type": "code",
   "execution_count": 20,
   "metadata": {
    "collapsed": true
   },
   "outputs": [
    {
     "name": "stdout",
     "output_type": "stream",
     "text": [
      "<class 'geopandas.geodataframe.GeoDataFrame'>\n",
      "Int64Index: 444 entries, 0 to 440\n",
      "Data columns (total 28 columns):\n",
      "STATEFP_left      444 non-null object\n",
      "CD115FP           444 non-null object\n",
      "GEOID_left        444 non-null object\n",
      "NAMELSAD          444 non-null object\n",
      "LSAD_left         444 non-null object\n",
      "CDSESSN           444 non-null object\n",
      "MTFCC_left        444 non-null object\n",
      "FUNCSTAT_left     444 non-null object\n",
      "ALAND_left        444 non-null int64\n",
      "AWATER_left       444 non-null int64\n",
      "INTPTLAT_left     444 non-null object\n",
      "INTPTLON_left     444 non-null object\n",
      "geometry          444 non-null object\n",
      "index_right       444 non-null int64\n",
      "REGION            444 non-null object\n",
      "DIVISION          444 non-null object\n",
      "STATEFP_right     444 non-null object\n",
      "STATENS           444 non-null object\n",
      "GEOID_right       444 non-null object\n",
      "STUSPS            444 non-null object\n",
      "NAME              444 non-null object\n",
      "LSAD_right        444 non-null object\n",
      "MTFCC_right       444 non-null object\n",
      "FUNCSTAT_right    444 non-null object\n",
      "ALAND_right       444 non-null int64\n",
      "AWATER_right      444 non-null int64\n",
      "INTPTLAT_right    444 non-null object\n",
      "INTPTLON_right    444 non-null object\n",
      "dtypes: int64(5), object(23)\n",
      "memory usage: 100.6+ KB\n"
     ]
    }
   ],
   "source": [
    "districts.info()"
   ]
  },
  {
   "cell_type": "code",
   "execution_count": 21,
   "metadata": {
    "collapsed": true
   },
   "outputs": [
    {
     "data": {
      "text/html": [
       "<div>\n",
       "<style scoped>\n",
       "    .dataframe tbody tr th:only-of-type {\n",
       "        vertical-align: middle;\n",
       "    }\n",
       "\n",
       "    .dataframe tbody tr th {\n",
       "        vertical-align: top;\n",
       "    }\n",
       "\n",
       "    .dataframe thead th {\n",
       "        text-align: right;\n",
       "    }\n",
       "</style>\n",
       "<table border=\"1\" class=\"dataframe\">\n",
       "  <thead>\n",
       "    <tr style=\"text-align: right;\">\n",
       "      <th></th>\n",
       "      <th>STATEFP_left</th>\n",
       "      <th>CD115FP</th>\n",
       "      <th>GEOID_left</th>\n",
       "      <th>NAMELSAD</th>\n",
       "      <th>LSAD_left</th>\n",
       "      <th>CDSESSN</th>\n",
       "      <th>MTFCC_left</th>\n",
       "      <th>FUNCSTAT_left</th>\n",
       "      <th>ALAND_left</th>\n",
       "      <th>AWATER_left</th>\n",
       "      <th>...</th>\n",
       "      <th>GEOID_right</th>\n",
       "      <th>STUSPS</th>\n",
       "      <th>NAME</th>\n",
       "      <th>LSAD_right</th>\n",
       "      <th>MTFCC_right</th>\n",
       "      <th>FUNCSTAT_right</th>\n",
       "      <th>ALAND_right</th>\n",
       "      <th>AWATER_right</th>\n",
       "      <th>INTPTLAT_right</th>\n",
       "      <th>INTPTLON_right</th>\n",
       "    </tr>\n",
       "  </thead>\n",
       "  <tbody>\n",
       "    <tr>\n",
       "      <td>7</td>\n",
       "      <td>01</td>\n",
       "      <td>01</td>\n",
       "      <td>0101</td>\n",
       "      <td>Congressional District 1</td>\n",
       "      <td>C2</td>\n",
       "      <td>115</td>\n",
       "      <td>G5200</td>\n",
       "      <td>N</td>\n",
       "      <td>15713033442</td>\n",
       "      <td>2275872161</td>\n",
       "      <td>...</td>\n",
       "      <td>01</td>\n",
       "      <td>AL</td>\n",
       "      <td>Alabama</td>\n",
       "      <td>00</td>\n",
       "      <td>G4000</td>\n",
       "      <td>A</td>\n",
       "      <td>131173688951</td>\n",
       "      <td>4593686489</td>\n",
       "      <td>+32.7396323</td>\n",
       "      <td>-086.8434593</td>\n",
       "    </tr>\n",
       "    <tr>\n",
       "      <td>50</td>\n",
       "      <td>01</td>\n",
       "      <td>02</td>\n",
       "      <td>0102</td>\n",
       "      <td>Congressional District 2</td>\n",
       "      <td>C2</td>\n",
       "      <td>115</td>\n",
       "      <td>G5200</td>\n",
       "      <td>N</td>\n",
       "      <td>26266769386</td>\n",
       "      <td>306746680</td>\n",
       "      <td>...</td>\n",
       "      <td>01</td>\n",
       "      <td>AL</td>\n",
       "      <td>Alabama</td>\n",
       "      <td>00</td>\n",
       "      <td>G4000</td>\n",
       "      <td>A</td>\n",
       "      <td>131173688951</td>\n",
       "      <td>4593686489</td>\n",
       "      <td>+32.7396323</td>\n",
       "      <td>-086.8434593</td>\n",
       "    </tr>\n",
       "    <tr>\n",
       "      <td>93</td>\n",
       "      <td>01</td>\n",
       "      <td>03</td>\n",
       "      <td>0103</td>\n",
       "      <td>Congressional District 3</td>\n",
       "      <td>C2</td>\n",
       "      <td>115</td>\n",
       "      <td>G5200</td>\n",
       "      <td>N</td>\n",
       "      <td>19539111289</td>\n",
       "      <td>470420309</td>\n",
       "      <td>...</td>\n",
       "      <td>01</td>\n",
       "      <td>AL</td>\n",
       "      <td>Alabama</td>\n",
       "      <td>00</td>\n",
       "      <td>G4000</td>\n",
       "      <td>A</td>\n",
       "      <td>131173688951</td>\n",
       "      <td>4593686489</td>\n",
       "      <td>+32.7396323</td>\n",
       "      <td>-086.8434593</td>\n",
       "    </tr>\n",
       "    <tr>\n",
       "      <td>131</td>\n",
       "      <td>01</td>\n",
       "      <td>04</td>\n",
       "      <td>0104</td>\n",
       "      <td>Congressional District 4</td>\n",
       "      <td>C2</td>\n",
       "      <td>115</td>\n",
       "      <td>G5200</td>\n",
       "      <td>N</td>\n",
       "      <td>23022867957</td>\n",
       "      <td>572877020</td>\n",
       "      <td>...</td>\n",
       "      <td>01</td>\n",
       "      <td>AL</td>\n",
       "      <td>Alabama</td>\n",
       "      <td>00</td>\n",
       "      <td>G4000</td>\n",
       "      <td>A</td>\n",
       "      <td>131173688951</td>\n",
       "      <td>4593686489</td>\n",
       "      <td>+32.7396323</td>\n",
       "      <td>-086.8434593</td>\n",
       "    </tr>\n",
       "    <tr>\n",
       "      <td>166</td>\n",
       "      <td>01</td>\n",
       "      <td>05</td>\n",
       "      <td>0105</td>\n",
       "      <td>Congressional District 5</td>\n",
       "      <td>C2</td>\n",
       "      <td>115</td>\n",
       "      <td>G5200</td>\n",
       "      <td>N</td>\n",
       "      <td>9524306180</td>\n",
       "      <td>461150831</td>\n",
       "      <td>...</td>\n",
       "      <td>01</td>\n",
       "      <td>AL</td>\n",
       "      <td>Alabama</td>\n",
       "      <td>00</td>\n",
       "      <td>G4000</td>\n",
       "      <td>A</td>\n",
       "      <td>131173688951</td>\n",
       "      <td>4593686489</td>\n",
       "      <td>+32.7396323</td>\n",
       "      <td>-086.8434593</td>\n",
       "    </tr>\n",
       "    <tr>\n",
       "      <td>...</td>\n",
       "      <td>...</td>\n",
       "      <td>...</td>\n",
       "      <td>...</td>\n",
       "      <td>...</td>\n",
       "      <td>...</td>\n",
       "      <td>...</td>\n",
       "      <td>...</td>\n",
       "      <td>...</td>\n",
       "      <td>...</td>\n",
       "      <td>...</td>\n",
       "      <td>...</td>\n",
       "      <td>...</td>\n",
       "      <td>...</td>\n",
       "      <td>...</td>\n",
       "      <td>...</td>\n",
       "      <td>...</td>\n",
       "      <td>...</td>\n",
       "      <td>...</td>\n",
       "      <td>...</td>\n",
       "      <td>...</td>\n",
       "      <td>...</td>\n",
       "    </tr>\n",
       "    <tr>\n",
       "      <td>194</td>\n",
       "      <td>55</td>\n",
       "      <td>05</td>\n",
       "      <td>5505</td>\n",
       "      <td>Congressional District 5</td>\n",
       "      <td>C2</td>\n",
       "      <td>115</td>\n",
       "      <td>G5200</td>\n",
       "      <td>N</td>\n",
       "      <td>4897030038</td>\n",
       "      <td>165147915</td>\n",
       "      <td>...</td>\n",
       "      <td>55</td>\n",
       "      <td>WI</td>\n",
       "      <td>Wisconsin</td>\n",
       "      <td>00</td>\n",
       "      <td>G4000</td>\n",
       "      <td>A</td>\n",
       "      <td>140273604537</td>\n",
       "      <td>29361386480</td>\n",
       "      <td>+44.6309071</td>\n",
       "      <td>-089.7093916</td>\n",
       "    </tr>\n",
       "    <tr>\n",
       "      <td>220</td>\n",
       "      <td>55</td>\n",
       "      <td>06</td>\n",
       "      <td>5506</td>\n",
       "      <td>Congressional District 6</td>\n",
       "      <td>C2</td>\n",
       "      <td>115</td>\n",
       "      <td>G5200</td>\n",
       "      <td>N</td>\n",
       "      <td>12739403869</td>\n",
       "      <td>7317994714</td>\n",
       "      <td>...</td>\n",
       "      <td>55</td>\n",
       "      <td>WI</td>\n",
       "      <td>Wisconsin</td>\n",
       "      <td>00</td>\n",
       "      <td>G4000</td>\n",
       "      <td>A</td>\n",
       "      <td>140273604537</td>\n",
       "      <td>29361386480</td>\n",
       "      <td>+44.6309071</td>\n",
       "      <td>-089.7093916</td>\n",
       "    </tr>\n",
       "    <tr>\n",
       "      <td>244</td>\n",
       "      <td>55</td>\n",
       "      <td>07</td>\n",
       "      <td>5507</td>\n",
       "      <td>Congressional District 7</td>\n",
       "      <td>C2</td>\n",
       "      <td>115</td>\n",
       "      <td>G5200</td>\n",
       "      <td>N</td>\n",
       "      <td>59671009717</td>\n",
       "      <td>7701303765</td>\n",
       "      <td>...</td>\n",
       "      <td>55</td>\n",
       "      <td>WI</td>\n",
       "      <td>Wisconsin</td>\n",
       "      <td>00</td>\n",
       "      <td>G4000</td>\n",
       "      <td>A</td>\n",
       "      <td>140273604537</td>\n",
       "      <td>29361386480</td>\n",
       "      <td>+44.6309071</td>\n",
       "      <td>-089.7093916</td>\n",
       "    </tr>\n",
       "    <tr>\n",
       "      <td>265</td>\n",
       "      <td>55</td>\n",
       "      <td>08</td>\n",
       "      <td>5508</td>\n",
       "      <td>Congressional District 8</td>\n",
       "      <td>C2</td>\n",
       "      <td>115</td>\n",
       "      <td>G5200</td>\n",
       "      <td>N</td>\n",
       "      <td>17627445037</td>\n",
       "      <td>8182671615</td>\n",
       "      <td>...</td>\n",
       "      <td>55</td>\n",
       "      <td>WI</td>\n",
       "      <td>Wisconsin</td>\n",
       "      <td>00</td>\n",
       "      <td>G4000</td>\n",
       "      <td>A</td>\n",
       "      <td>140273604537</td>\n",
       "      <td>29361386480</td>\n",
       "      <td>+44.6309071</td>\n",
       "      <td>-089.7093916</td>\n",
       "    </tr>\n",
       "    <tr>\n",
       "      <td>6</td>\n",
       "      <td>56</td>\n",
       "      <td>00</td>\n",
       "      <td>5600</td>\n",
       "      <td>Congressional District (at Large)</td>\n",
       "      <td>C1</td>\n",
       "      <td>115</td>\n",
       "      <td>G5200</td>\n",
       "      <td>N</td>\n",
       "      <td>251464935120</td>\n",
       "      <td>1861273298</td>\n",
       "      <td>...</td>\n",
       "      <td>56</td>\n",
       "      <td>WY</td>\n",
       "      <td>Wyoming</td>\n",
       "      <td>00</td>\n",
       "      <td>G4000</td>\n",
       "      <td>A</td>\n",
       "      <td>251464935120</td>\n",
       "      <td>1861273298</td>\n",
       "      <td>+42.9918024</td>\n",
       "      <td>-107.5419255</td>\n",
       "    </tr>\n",
       "  </tbody>\n",
       "</table>\n",
       "<p>444 rows × 28 columns</p>\n",
       "</div>"
      ],
      "text/plain": [
       "    STATEFP_left CD115FP GEOID_left                           NAMELSAD  \\\n",
       "7             01      01       0101           Congressional District 1   \n",
       "50            01      02       0102           Congressional District 2   \n",
       "93            01      03       0103           Congressional District 3   \n",
       "131           01      04       0104           Congressional District 4   \n",
       "166           01      05       0105           Congressional District 5   \n",
       "..           ...     ...        ...                                ...   \n",
       "194           55      05       5505           Congressional District 5   \n",
       "220           55      06       5506           Congressional District 6   \n",
       "244           55      07       5507           Congressional District 7   \n",
       "265           55      08       5508           Congressional District 8   \n",
       "6             56      00       5600  Congressional District (at Large)   \n",
       "\n",
       "    LSAD_left CDSESSN MTFCC_left FUNCSTAT_left    ALAND_left  AWATER_left  \\\n",
       "7          C2     115      G5200             N   15713033442   2275872161   \n",
       "50         C2     115      G5200             N   26266769386    306746680   \n",
       "93         C2     115      G5200             N   19539111289    470420309   \n",
       "131        C2     115      G5200             N   23022867957    572877020   \n",
       "166        C2     115      G5200             N    9524306180    461150831   \n",
       "..        ...     ...        ...           ...           ...          ...   \n",
       "194        C2     115      G5200             N    4897030038    165147915   \n",
       "220        C2     115      G5200             N   12739403869   7317994714   \n",
       "244        C2     115      G5200             N   59671009717   7701303765   \n",
       "265        C2     115      G5200             N   17627445037   8182671615   \n",
       "6          C1     115      G5200             N  251464935120   1861273298   \n",
       "\n",
       "     ... GEOID_right STUSPS       NAME  LSAD_right MTFCC_right FUNCSTAT_right  \\\n",
       "7    ...          01     AL    Alabama          00       G4000              A   \n",
       "50   ...          01     AL    Alabama          00       G4000              A   \n",
       "93   ...          01     AL    Alabama          00       G4000              A   \n",
       "131  ...          01     AL    Alabama          00       G4000              A   \n",
       "166  ...          01     AL    Alabama          00       G4000              A   \n",
       "..   ...         ...    ...        ...         ...         ...            ...   \n",
       "194  ...          55     WI  Wisconsin          00       G4000              A   \n",
       "220  ...          55     WI  Wisconsin          00       G4000              A   \n",
       "244  ...          55     WI  Wisconsin          00       G4000              A   \n",
       "265  ...          55     WI  Wisconsin          00       G4000              A   \n",
       "6    ...          56     WY    Wyoming          00       G4000              A   \n",
       "\n",
       "      ALAND_right AWATER_right INTPTLAT_right INTPTLON_right  \n",
       "7    131173688951   4593686489    +32.7396323   -086.8434593  \n",
       "50   131173688951   4593686489    +32.7396323   -086.8434593  \n",
       "93   131173688951   4593686489    +32.7396323   -086.8434593  \n",
       "131  131173688951   4593686489    +32.7396323   -086.8434593  \n",
       "166  131173688951   4593686489    +32.7396323   -086.8434593  \n",
       "..            ...          ...            ...            ...  \n",
       "194  140273604537  29361386480    +44.6309071   -089.7093916  \n",
       "220  140273604537  29361386480    +44.6309071   -089.7093916  \n",
       "244  140273604537  29361386480    +44.6309071   -089.7093916  \n",
       "265  140273604537  29361386480    +44.6309071   -089.7093916  \n",
       "6    251464935120   1861273298    +42.9918024   -107.5419255  \n",
       "\n",
       "[444 rows x 28 columns]"
      ]
     },
     "execution_count": 21,
     "metadata": {},
     "output_type": "execute_result"
    }
   ],
   "source": [
    "districts.sort_values([\"NAME\", \"NAMELSAD\"])"
   ]
  },
  {
   "cell_type": "markdown",
   "metadata": {},
   "source": [
    "The resulting `districts` data frame now has the attributes of the `states` and `cd116` data frames combined together.\n",
    "This means that we can now operate on them together.\n",
    "\n",
    "For example, let's plot the congressional districts in Alabama."
   ]
  },
  {
   "cell_type": "code",
   "execution_count": 23,
   "metadata": {},
   "outputs": [
    {
     "data": {
      "text/plain": [
       "<matplotlib.axes._subplots.AxesSubplot at 0x20036124a08>"
      ]
     },
     "execution_count": 23,
     "metadata": {},
     "output_type": "execute_result"
    },
    {
     "data": {
      "image/png": "[encoded data removed]",
      "text/plain": [
       "<Figure size 432x288 with 1 Axes>"
      ]
     },
     "metadata": {
      "needs_background": "light"
     },
     "output_type": "display_data"
    }
   ],
   "source": [
    "districts[districts.NAME == \"Alabama\"].plot(column = \"NAMELSAD\")"
   ]
  },
  {
   "cell_type": "markdown",
   "metadata": {},
   "source": [
    "---\n",
    "**EXERCISE**:\n",
    "Plot the congressional districts of your home state and its two neighbors."
   ]
  },
  {
   "cell_type": "code",
   "execution_count": null,
   "metadata": {},
   "outputs": [],
   "source": [
    "# Answer here"
   ]
  },
  {
   "cell_type": "markdown",
   "metadata": {},
   "source": [
    "### Exporting shapefiles"
   ]
  },
  {
   "cell_type": "markdown",
   "metadata": {},
   "source": [
    "Now, we can use our new data frame to create shapefiles for individual states.\n",
    "The method for doing this is `object.to_file()`.\n",
    "Geopandas is smart enough to figure out the type of object to export from the file extension."
   ]
  },
  {
   "cell_type": "code",
   "execution_count": 31,
   "metadata": {},
   "outputs": [
    {
     "data": {
      "text/html": [
       "<div>\n",
       "<style scoped>\n",
       "    .dataframe tbody tr th:only-of-type {\n",
       "        vertical-align: middle;\n",
       "    }\n",
       "\n",
       "    .dataframe tbody tr th {\n",
       "        vertical-align: top;\n",
       "    }\n",
       "\n",
       "    .dataframe thead th {\n",
       "        text-align: right;\n",
       "    }\n",
       "</style>\n",
       "<table border=\"1\" class=\"dataframe\">\n",
       "  <thead>\n",
       "    <tr style=\"text-align: right;\">\n",
       "      <th></th>\n",
       "      <th>STATEFP_left</th>\n",
       "      <th>CD115FP</th>\n",
       "      <th>GEOID_left</th>\n",
       "      <th>NAMELSAD</th>\n",
       "      <th>LSAD_left</th>\n",
       "      <th>CDSESSN</th>\n",
       "      <th>MTFCC_left</th>\n",
       "      <th>FUNCSTAT_left</th>\n",
       "      <th>ALAND_left</th>\n",
       "      <th>AWATER_left</th>\n",
       "      <th>...</th>\n",
       "      <th>GEOID_right</th>\n",
       "      <th>STUSPS</th>\n",
       "      <th>NAME</th>\n",
       "      <th>LSAD_right</th>\n",
       "      <th>MTFCC_right</th>\n",
       "      <th>FUNCSTAT_right</th>\n",
       "      <th>ALAND_right</th>\n",
       "      <th>AWATER_right</th>\n",
       "      <th>INTPTLAT_right</th>\n",
       "      <th>INTPTLON_right</th>\n",
       "    </tr>\n",
       "  </thead>\n",
       "  <tbody>\n",
       "    <tr>\n",
       "      <td>9</td>\n",
       "      <td>05</td>\n",
       "      <td>01</td>\n",
       "      <td>0501</td>\n",
       "      <td>Congressional District 1</td>\n",
       "      <td>C2</td>\n",
       "      <td>115</td>\n",
       "      <td>G5200</td>\n",
       "      <td>N</td>\n",
       "      <td>50036314981</td>\n",
       "      <td>1233951818</td>\n",
       "      <td>...</td>\n",
       "      <td>05</td>\n",
       "      <td>AR</td>\n",
       "      <td>Arkansas</td>\n",
       "      <td>00</td>\n",
       "      <td>G4000</td>\n",
       "      <td>A</td>\n",
       "      <td>134771517596</td>\n",
       "      <td>2960191698</td>\n",
       "      <td>+34.8955256</td>\n",
       "      <td>-092.4446262</td>\n",
       "    </tr>\n",
       "    <tr>\n",
       "      <td>52</td>\n",
       "      <td>05</td>\n",
       "      <td>02</td>\n",
       "      <td>0502</td>\n",
       "      <td>Congressional District 2</td>\n",
       "      <td>C2</td>\n",
       "      <td>115</td>\n",
       "      <td>G5200</td>\n",
       "      <td>N</td>\n",
       "      <td>12894845468</td>\n",
       "      <td>303339608</td>\n",
       "      <td>...</td>\n",
       "      <td>05</td>\n",
       "      <td>AR</td>\n",
       "      <td>Arkansas</td>\n",
       "      <td>00</td>\n",
       "      <td>G4000</td>\n",
       "      <td>A</td>\n",
       "      <td>134771517596</td>\n",
       "      <td>2960191698</td>\n",
       "      <td>+34.8955256</td>\n",
       "      <td>-092.4446262</td>\n",
       "    </tr>\n",
       "    <tr>\n",
       "      <td>95</td>\n",
       "      <td>05</td>\n",
       "      <td>03</td>\n",
       "      <td>0503</td>\n",
       "      <td>Congressional District 3</td>\n",
       "      <td>C2</td>\n",
       "      <td>115</td>\n",
       "      <td>G5200</td>\n",
       "      <td>N</td>\n",
       "      <td>13983502473</td>\n",
       "      <td>374790427</td>\n",
       "      <td>...</td>\n",
       "      <td>05</td>\n",
       "      <td>AR</td>\n",
       "      <td>Arkansas</td>\n",
       "      <td>00</td>\n",
       "      <td>G4000</td>\n",
       "      <td>A</td>\n",
       "      <td>134771517596</td>\n",
       "      <td>2960191698</td>\n",
       "      <td>+34.8955256</td>\n",
       "      <td>-092.4446262</td>\n",
       "    </tr>\n",
       "    <tr>\n",
       "      <td>133</td>\n",
       "      <td>05</td>\n",
       "      <td>04</td>\n",
       "      <td>0504</td>\n",
       "      <td>Congressional District 4</td>\n",
       "      <td>C2</td>\n",
       "      <td>115</td>\n",
       "      <td>G5200</td>\n",
       "      <td>N</td>\n",
       "      <td>57856854674</td>\n",
       "      <td>1048109845</td>\n",
       "      <td>...</td>\n",
       "      <td>05</td>\n",
       "      <td>AR</td>\n",
       "      <td>Arkansas</td>\n",
       "      <td>00</td>\n",
       "      <td>G4000</td>\n",
       "      <td>A</td>\n",
       "      <td>134771517596</td>\n",
       "      <td>2960191698</td>\n",
       "      <td>+34.8955256</td>\n",
       "      <td>-092.4446262</td>\n",
       "    </tr>\n",
       "  </tbody>\n",
       "</table>\n",
       "<p>4 rows × 28 columns</p>\n",
       "</div>"
      ],
      "text/plain": [
       "    STATEFP_left CD115FP GEOID_left                  NAMELSAD LSAD_left  \\\n",
       "9             05      01       0501  Congressional District 1        C2   \n",
       "52            05      02       0502  Congressional District 2        C2   \n",
       "95            05      03       0503  Congressional District 3        C2   \n",
       "133           05      04       0504  Congressional District 4        C2   \n",
       "\n",
       "    CDSESSN MTFCC_left FUNCSTAT_left   ALAND_left  AWATER_left  ...  \\\n",
       "9       115      G5200             N  50036314981   1233951818  ...   \n",
       "52      115      G5200             N  12894845468    303339608  ...   \n",
       "95      115      G5200             N  13983502473    374790427  ...   \n",
       "133     115      G5200             N  57856854674   1048109845  ...   \n",
       "\n",
       "    GEOID_right STUSPS      NAME  LSAD_right MTFCC_right FUNCSTAT_right  \\\n",
       "9            05     AR  Arkansas          00       G4000              A   \n",
       "52           05     AR  Arkansas          00       G4000              A   \n",
       "95           05     AR  Arkansas          00       G4000              A   \n",
       "133          05     AR  Arkansas          00       G4000              A   \n",
       "\n",
       "      ALAND_right AWATER_right INTPTLAT_right INTPTLON_right  \n",
       "9    134771517596   2960191698    +34.8955256   -092.4446262  \n",
       "52   134771517596   2960191698    +34.8955256   -092.4446262  \n",
       "95   134771517596   2960191698    +34.8955256   -092.4446262  \n",
       "133  134771517596   2960191698    +34.8955256   -092.4446262  \n",
       "\n",
       "[4 rows x 28 columns]"
      ]
     },
     "execution_count": 31,
     "metadata": {},
     "output_type": "execute_result"
    }
   ],
   "source": [
    "mystate = \"Arkansas\"\n",
    "result = districts[districts.NAME == mystate]\n",
    "result.head()"
   ]
  },
  {
   "cell_type": "markdown",
   "metadata": {},
   "source": [
    "To stay organized, let's create an `\"output\"` directory and store the results there."
   ]
  },
  {
   "cell_type": "code",
   "execution_count": 32,
   "metadata": {
    "scrolled": true
   },
   "outputs": [],
   "source": [
    "outdir = \"output\"\n",
    "if (not os.path.exists(outdir)):\n",
    "    os.mkdir(outdir)\n",
    "alabama.to_file(os.path.join(outdir, \"alabama.shp\"))"
   ]
  },
  {
   "cell_type": "markdown",
   "metadata": {},
   "source": [
    "---\n",
    "**EXERCISE**:\n",
    "Use a `for` loop to export the shapefiles of 5 states of your choice."
   ]
  },
  {
   "cell_type": "markdown",
   "metadata": {},
   "source": [
    "### Attribute joins"
   ]
  },
  {
   "cell_type": "code",
   "execution_count": null,
   "metadata": {},
   "outputs": [],
   "source": [
    "election_file = os.path.join(downloads, \"1976-2016-president.csv\")\n",
    "election_full = pd.read_csv(election_file)"
   ]
  },
  {
   "cell_type": "code",
   "execution_count": null,
   "metadata": {},
   "outputs": [],
   "source": [
    "election_full"
   ]
  },
  {
   "cell_type": "code",
   "execution_count": null,
   "metadata": {},
   "outputs": [],
   "source": [
    "election_2016 = election_full[election_full.year == 2016]\n",
    "election_2016.head()"
   ]
  },
  {
   "cell_type": "code",
   "execution_count": null,
   "metadata": {},
   "outputs": [],
   "source": [
    "election_2016_geo = states.merge(\n",
    "    election_2016,\n",
    "    left_on = \"STUSPS\",\n",
    "    right_on = \"state_po\"\n",
    ")"
   ]
  },
  {
   "cell_type": "code",
   "execution_count": null,
   "metadata": {},
   "outputs": [],
   "source": [
    "election_2016_geo[\"candidate_frac\"] = election_2016_geo.candidatevotes / election_2016_geo.totalvotes"
   ]
  },
  {
   "cell_type": "code",
   "execution_count": null,
   "metadata": {},
   "outputs": [],
   "source": [
    "election_2016_geo[\n",
    "    ~(election_2016_geo.state.isin([\"Alaska\", \"Hawaii\"])) &\n",
    "    (election_2016_geo.party == \"democrat\")\n",
    "].plot(column = \"candidate_frac\")"
   ]
  },
  {
   "cell_type": "markdown",
   "metadata": {},
   "source": [
    "For each state, get the winning candidate (the one with the most votes, by group)."
   ]
  },
  {
   "cell_type": "code",
   "execution_count": null,
   "metadata": {},
   "outputs": [],
   "source": [
    "election_winner = election_2016_geo.loc[\n",
    "    election_2016_geo.groupby(\"NAME\")[\"candidatevotes\"].idxmax()\n",
    "]"
   ]
  },
  {
   "cell_type": "code",
   "execution_count": null,
   "metadata": {},
   "outputs": [],
   "source": [
    "election_winner[election_winner.state != \"Alaska\"].plot(column = \"party\")"
   ]
  },
  {
   "cell_type": "code",
   "execution_count": null,
   "metadata": {},
   "outputs": [],
   "source": [
    "election_2016_geo[election_2016_geo.state == \"Maryland\"]"
   ]
  },
  {
   "cell_type": "code",
   "execution_count": null,
   "metadata": {},
   "outputs": [],
   "source": [
    "elect_sub = election_2016_geo[\n",
    "    (election_2016_geo.party.isin([\"republican\", \"democrat\"])) &\n",
    "    ~(election_2016_geo.writein)\n",
    "][[\"state\", \"party\", \"candidatevotes\", \"geometry\"]]"
   ]
  },
  {
   "cell_type": "code",
   "execution_count": null,
   "metadata": {},
   "outputs": [],
   "source": [
    "elect_wide = elect_sub.pivot(\n",
    "    index = [\"state\", \"geometry\"],\n",
    "    columns = \"party\",\n",
    "    values = \"candidatevotes\"\n",
    ")"
   ]
  },
  {
   "cell_type": "code",
   "execution_count": null,
   "metadata": {},
   "outputs": [],
   "source": [
    "elect_wide.info()"
   ]
  },
  {
   "cell_type": "code",
   "execution_count": null,
   "metadata": {},
   "outputs": [],
   "source": [
    "election_2016_geo[election_2016_geo.party == \"republican\"].plot(\n",
    "    column = \"candidatevotes\"\n",
    ")"
   ]
  },
  {
   "cell_type": "code",
   "execution_count": null,
   "metadata": {},
   "outputs": [],
   "source": [
    "election_2016_geo.head()"
   ]
  },
  {
   "cell_type": "code",
   "execution_count": null,
   "metadata": {},
   "outputs": [],
   "source": [
    "states.info()"
   ]
  },
  {
   "cell_type": "markdown",
   "metadata": {},
   "source": [
    "### Applying functions to columns"
   ]
  },
  {
   "cell_type": "markdown",
   "metadata": {},
   "source": [
    "In the previous examples, arithmetic operators (e.g. `+`, `/`) worked without modification on Pandas `Series` (columns).\n",
    "In other words, `states[\"ALAND\"] + states[\"AWATER\"]` is assumed to mean \"add every element of `ALAND` to every element of `AWATER`\".\n",
    "However, many (in fact, most) functions will not work this way."
   ]
  },
  {
   "cell_type": "markdown",
   "metadata": {},
   "source": [
    "Fortunately, Pandas provides a convenient syntax for applying a function to every element of a `Series`."
   ]
  },
  {
   "cell_type": "markdown",
   "metadata": {},
   "source": [
    "Let's start by defining a simple function that adds `.shp` to the state name.\n",
    "Recall that you have at least two options for doing this in Python."
   ]
  },
  {
   "cell_type": "code",
   "execution_count": null,
   "metadata": {},
   "outputs": [],
   "source": [
    "mystring = \"Arkansas\"\n",
    "mystring + \".shp\""
   ]
  },
  {
   "cell_type": "code",
   "execution_count": null,
   "metadata": {},
   "outputs": [],
   "source": [
    "\"%s.shp\" % mystring"
   ]
  },
  {
   "cell_type": "markdown",
   "metadata": {},
   "source": [
    "Let's wrap these steps in a simple function:"
   ]
  },
  {
   "cell_type": "code",
   "execution_count": null,
   "metadata": {},
   "outputs": [],
   "source": [
    "def create_filename(s):\n",
    "    result = \"%s.shp\" % s\n",
    "    return result"
   ]
  },
  {
   "cell_type": "code",
   "execution_count": null,
   "metadata": {},
   "outputs": [],
   "source": [
    "create_filename(\"Arkansas\")"
   ]
  },
  {
   "cell_type": "code",
   "execution_count": null,
   "metadata": {},
   "outputs": [],
   "source": [
    "create_filename(states[\"NAME\"])"
   ]
  },
  {
   "cell_type": "markdown",
   "metadata": {},
   "source": [
    "Note the error: `'Series' object has no attribute 'lower'`.\n",
    "That's because our code literally tried to do this:\n",
    "\n",
    "```python\n",
    "s_lowercase = states[\"NAME\"].lower()\n",
    "```\n",
    "\n",
    "...and `lower` is not something that `Series` know how to do."
   ]
  },
  {
   "cell_type": "markdown",
   "metadata": {},
   "source": [
    "To make this work, we can instead use the `apply` method, which takes an argument that is a _function_ and applies that argument to every element of a `Series`."
   ]
  },
  {
   "cell_type": "code",
   "execution_count": null,
   "metadata": {},
   "outputs": [],
   "source": [
    "states[\"NAME\"].apply(file_friendly)"
   ]
  },
  {
   "cell_type": "markdown",
   "metadata": {},
   "source": [
    "Let's start by defining a simple function to convert the state name (which has upper case letters and spaces) to a more file-friendly name that is all lowercase and replaces spaces with dashes (`-`)."
   ]
  },
  {
   "cell_type": "markdown",
   "metadata": {},
   "source": [
    "Let's interactively identify and test the relevant `str` methods we need to use."
   ]
  },
  {
   "cell_type": "code",
   "execution_count": null,
   "metadata": {},
   "outputs": [],
   "source": [
    "mystring = \"West Virginia\"\n",
    "mystring.lower()"
   ]
  },
  {
   "cell_type": "code",
   "execution_count": null,
   "metadata": {},
   "outputs": [],
   "source": [
    "mystring.replace(\" \", \"-\")"
   ]
  },
  {
   "cell_type": "markdown",
   "metadata": {},
   "source": [
    "Now, define a function that combines these two pieces."
   ]
  },
  {
   "cell_type": "code",
   "execution_count": null,
   "metadata": {},
   "outputs": [],
   "source": [
    "def file_friendly(s):\n",
    "    s_lowercase = s.lower()\n",
    "    s_file = s_lowercase.replace(\" \", \"-\")\n",
    "    return s_file"
   ]
  },
  {
   "cell_type": "markdown",
   "metadata": {},
   "source": [
    "Test it out on a few cases."
   ]
  },
  {
   "cell_type": "code",
   "execution_count": null,
   "metadata": {},
   "outputs": [],
   "source": [
    "file_friendly(\"West Virginia\")"
   ]
  },
  {
   "cell_type": "code",
   "execution_count": null,
   "metadata": {},
   "outputs": [],
   "source": [
    "file_friendly(\"Washington, D.C.\")"
   ]
  },
  {
   "cell_type": "markdown",
   "metadata": {},
   "source": [
    "That's not a great file name -- periods and commas can confuse operating systems. Let's modify the function to remove those."
   ]
  },
  {
   "cell_type": "code",
   "execution_count": null,
   "metadata": {},
   "outputs": [],
   "source": [
    "def file_friendly(s):\n",
    "    s_lowercase = s.lower()\n",
    "    s_file = s_lowercase.replace(\" \",\"-\")\n",
    "    s_file = s_file.replace(\",\", \"\")\n",
    "    s_file = s_file.replace(\".\", \"\")\n",
    "    return s_file"
   ]
  },
  {
   "cell_type": "code",
   "execution_count": null,
   "metadata": {},
   "outputs": [],
   "source": [
    "file_friendly(\"Washington, D.C.\")"
   ]
  },
  {
   "cell_type": "markdown",
   "metadata": {},
   "source": [
    "Much better!\n",
    "\n",
    "Now, if we try to use this on a `Series`, we get an error."
   ]
  },
  {
   "cell_type": "markdown",
   "metadata": {},
   "source": [
    "Another useful approach for selecting rows and columns by number is the `iloc` method.\n",
    "This takes two slices, one for rows and one for columns.\n",
    "Recall that a slice with no arguments (`:`) means \"everything\"."
   ]
  },
  {
   "cell_type": "code",
   "execution_count": null,
   "metadata": {},
   "outputs": [],
   "source": [
    "states.iloc[0:2,:]"
   ]
  },
  {
   "cell_type": "code",
   "execution_count": null,
   "metadata": {},
   "outputs": [],
   "source": [
    "states.iloc[3,:]"
   ]
  },
  {
   "cell_type": "markdown",
   "metadata": {},
   "source": [
    "Note that unlike the previous methods, which returned `DataFrame` objects with a subset of rows (even if those `DataFrame`s only had one row!), selecting a row with `iloc` returns a `Series`."
   ]
  },
  {
   "cell_type": "markdown",
   "metadata": {},
   "source": [
    "Equivalently, the following code can be used to select a column by index."
   ]
  },
  {
   "cell_type": "code",
   "execution_count": null,
   "metadata": {},
   "outputs": [],
   "source": [
    "# Recall: Python uses zero-based indexing!\n",
    "# NAME is the 7th column in the data frame, so its index is 6\n",
    "states.iloc[:, 6]"
   ]
  },
  {
   "cell_type": "code",
   "execution_count": null,
   "metadata": {},
   "outputs": [],
   "source": [
    "states.iloc[3,6]"
   ]
  }
 ],
 "metadata": {
  "kernelspec": {
   "display_name": "Python 3",
   "language": "python",
   "name": "python3"
  },
  "language_info": {
   "codemirror_mode": {
    "name": "ipython",
    "version": 3
   },
   "file_extension": ".py",
   "mimetype": "text/x-python",
   "name": "python",
   "nbconvert_exporter": "python",
   "pygments_lexer": "ipython3",
   "version": "3.7.4"
  }
 },
 "nbformat": 4,
 "nbformat_minor": 2
}
